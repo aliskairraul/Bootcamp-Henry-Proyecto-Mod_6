{
 "cells": [
  {
   "cell_type": "markdown",
   "metadata": {},
   "source": [
    "<img src='01_propuesta_proyecto/campos_proyecto_1.png'>"
   ]
  },
  {
   "cell_type": "markdown",
   "metadata": {},
   "source": [
    "### A Tomar en cuenta:\n",
    "- Numero de Muestras Tomadas   \n",
    "    - Si es Mayor a 12 Muestras entonces la Probabilidad de Hospitalizacion es (6/7)\n",
    "- Tipo de Cultivo\n",
    "    - Si es `Urocultivo`, `Hemocultivo` ó `Hemocultivo y Urocultivo` la Probabilidad de Hospitalizacion es (100%)\n",
    "- Hospitalizacion Ultimo Mes\n",
    "    - Si es (\"SI\")  entonces la Probabilidad es (1/5)\n",
    "- Fiebre\n",
    "    - Si es (\"SI\") entonces la Probabilidad es (21/37)\n",
    "- Patron de Resistencia (Puede diagnosticarse antes mediante examen de Orina o despues en Examen de Tejido extraido en Biopsia)\n",
    "    - Si presenta cualquiera de los siguientes patrones de resistencia, la Probabilidad es (100%) \n",
    "        - RESISTENTE A AMPI, CIPRO Y GENTA\n",
    "        - RESISTENTE A AMPI, SULFA, CEFADROXILO, CEFUROXIMO, CIPRO Y CEFEPIME, CEFOTAXIMA\n",
    "        - MULTI SENSIBLE\n",
    "        - AMPI R, CIPRO R, GENTA R, SULFA M R\n",
    "- Agente Aislado (Puede diagnosticarse antes median examen de Orina o despues en Examen de Tejido extraido en Biopsia)\n",
    "    - Si presenta cualquiera de los siguientes Agentes Aislados, la Probabilidad es (100%)\n",
    "        - E.COLI\n",
    "        - PSEUDOMONAS AERUGINOSA\n",
    "- ITU Infeccion en el Tracto Urinario\n",
    "    - Si hay Infeccion la Probabilidad es 100%\n",
    "\n",
    "### De Plano se puede descartar \n",
    "- Enfermedad Crónica Pulmonar Obstructiva\n",
    "- CUP"
   ]
  },
  {
   "cell_type": "code",
   "execution_count": 1,
   "metadata": {},
   "outputs": [],
   "source": [
    "\n",
    "import polars as pl"
   ]
  },
  {
   "cell_type": "code",
   "execution_count": 2,
   "metadata": {},
   "outputs": [],
   "source": [
    "import plotly.express as px\n",
    "import plotly.graph_objects as go\n",
    "from plotly.subplots import make_subplots\n",
    "import plotly.figure_factory as ff"
   ]
  },
  {
   "cell_type": "code",
   "execution_count": 3,
   "metadata": {},
   "outputs": [],
   "source": [
    "df = pl.read_csv('02_data_original/BBDD_Hospitalización.csv', separator=';')"
   ]
  },
  {
   "cell_type": "code",
   "execution_count": 4,
   "metadata": {},
   "outputs": [],
   "source": [
    "mask = df['HOSPITALIZACION'] == 'SI'"
   ]
  },
  {
   "cell_type": "markdown",
   "metadata": {},
   "source": [
    "***\n",
    "#### **TIPO DE CULTIVO**"
   ]
  },
  {
   "cell_type": "code",
   "execution_count": 5,
   "metadata": {},
   "outputs": [
    {
     "data": {
      "text/html": [
       "<div><style>\n",
       ".dataframe > thead > tr,\n",
       ".dataframe > tbody > tr {\n",
       "  text-align: right;\n",
       "  white-space: pre-wrap;\n",
       "}\n",
       "</style>\n",
       "<small>shape: (4, 2)</small><table border=\"1\" class=\"dataframe\"><thead><tr><th>TIPO DE CULTIVO</th><th>count</th></tr><tr><td>str</td><td>u32</td></tr></thead><tbody><tr><td>&quot;UROCULTIVO&quot;</td><td>4</td></tr><tr><td>&quot;NO&quot;</td><td>16</td></tr><tr><td>&quot;HEMOCULTIVO Y UROCULTIVO&quot;</td><td>2</td></tr><tr><td>&quot;HEMOCULTIVO&quot;</td><td>2</td></tr></tbody></table></div>"
      ],
      "text/plain": [
       "shape: (4, 2)\n",
       "┌──────────────────────────┬───────┐\n",
       "│ TIPO DE CULTIVO          ┆ count │\n",
       "│ ---                      ┆ ---   │\n",
       "│ str                      ┆ u32   │\n",
       "╞══════════════════════════╪═══════╡\n",
       "│ UROCULTIVO               ┆ 4     │\n",
       "│ NO                       ┆ 16    │\n",
       "│ HEMOCULTIVO Y UROCULTIVO ┆ 2     │\n",
       "│ HEMOCULTIVO              ┆ 2     │\n",
       "└──────────────────────────┴───────┘"
      ]
     },
     "execution_count": 5,
     "metadata": {},
     "output_type": "execute_result"
    }
   ],
   "source": [
    "# Hospitalizacion = 'SI'\n",
    "df.filter(mask)['TIPO DE CULTIVO'].value_counts()"
   ]
  },
  {
   "cell_type": "code",
   "execution_count": 6,
   "metadata": {},
   "outputs": [
    {
     "data": {
      "text/html": [
       "<div><style>\n",
       ".dataframe > thead > tr,\n",
       ".dataframe > tbody > tr {\n",
       "  text-align: right;\n",
       "  white-space: pre-wrap;\n",
       "}\n",
       "</style>\n",
       "<small>shape: (5, 2)</small><table border=\"1\" class=\"dataframe\"><thead><tr><th>TIPO DE CULTIVO</th><th>count</th></tr><tr><td>str</td><td>u32</td></tr></thead><tbody><tr><td>&quot;UROCULTIVO&quot;</td><td>4</td></tr><tr><td>&quot;NO&quot;</td><td>560</td></tr><tr><td>&quot;HEMOCULTIVO&quot;</td><td>2</td></tr><tr><td>&quot;HEMOCULTIVO Y UROCULTIVO&quot;</td><td>2</td></tr><tr><td>null</td><td>2</td></tr></tbody></table></div>"
      ],
      "text/plain": [
       "shape: (5, 2)\n",
       "┌──────────────────────────┬───────┐\n",
       "│ TIPO DE CULTIVO          ┆ count │\n",
       "│ ---                      ┆ ---   │\n",
       "│ str                      ┆ u32   │\n",
       "╞══════════════════════════╪═══════╡\n",
       "│ UROCULTIVO               ┆ 4     │\n",
       "│ NO                       ┆ 560   │\n",
       "│ HEMOCULTIVO              ┆ 2     │\n",
       "│ HEMOCULTIVO Y UROCULTIVO ┆ 2     │\n",
       "│ null                     ┆ 2     │\n",
       "└──────────────────────────┴───────┘"
      ]
     },
     "execution_count": 6,
     "metadata": {},
     "output_type": "execute_result"
    }
   ],
   "source": [
    "# DATA COMPLETA\n",
    "df['TIPO DE CULTIVO'].value_counts()"
   ]
  },
  {
   "cell_type": "markdown",
   "metadata": {},
   "source": [
    "***\n",
    "#### **Patron de Resistencia**"
   ]
  },
  {
   "cell_type": "code",
   "execution_count": 7,
   "metadata": {},
   "outputs": [
    {
     "data": {
      "text/html": [
       "<div><style>\n",
       ".dataframe > thead > tr,\n",
       ".dataframe > tbody > tr {\n",
       "  text-align: right;\n",
       "  white-space: pre-wrap;\n",
       "}\n",
       "</style>\n",
       "<small>shape: (5, 2)</small><table border=\"1\" class=\"dataframe\"><thead><tr><th>PATRON DE RESISTENCIA</th><th>count</th></tr><tr><td>str</td><td>u32</td></tr></thead><tbody><tr><td>&quot;RESISTENTE A AMPI, SULFA, CEFA…</td><td>2</td></tr><tr><td>&quot;NO&quot;</td><td>17</td></tr><tr><td>&quot; AMPI R, CIPRO R, GENTA R, SUL…</td><td>1</td></tr><tr><td>&quot;MULTI SENSIBLE&quot;</td><td>2</td></tr><tr><td>&quot;RESISTENTE A AMPI, CIPRO Y GEN…</td><td>2</td></tr></tbody></table></div>"
      ],
      "text/plain": [
       "shape: (5, 2)\n",
       "┌─────────────────────────────────┬───────┐\n",
       "│ PATRON DE RESISTENCIA           ┆ count │\n",
       "│ ---                             ┆ ---   │\n",
       "│ str                             ┆ u32   │\n",
       "╞═════════════════════════════════╪═══════╡\n",
       "│ RESISTENTE A AMPI, SULFA, CEFA… ┆ 2     │\n",
       "│ NO                              ┆ 17    │\n",
       "│  AMPI R, CIPRO R, GENTA R, SUL… ┆ 1     │\n",
       "│ MULTI SENSIBLE                  ┆ 2     │\n",
       "│ RESISTENTE A AMPI, CIPRO Y GEN… ┆ 2     │\n",
       "└─────────────────────────────────┴───────┘"
      ]
     },
     "execution_count": 7,
     "metadata": {},
     "output_type": "execute_result"
    }
   ],
   "source": [
    "# Hospitalizacion = 'SI'\n",
    "df.filter(mask)['PATRON DE RESISTENCIA'].value_counts()"
   ]
  },
  {
   "cell_type": "code",
   "execution_count": 8,
   "metadata": {},
   "outputs": [
    {
     "data": {
      "text/html": [
       "<div><style>\n",
       ".dataframe > thead > tr,\n",
       ".dataframe > tbody > tr {\n",
       "  text-align: right;\n",
       "  white-space: pre-wrap;\n",
       "}\n",
       "</style>\n",
       "<small>shape: (6, 2)</small><table border=\"1\" class=\"dataframe\"><thead><tr><th>PATRON DE RESISTENCIA</th><th>count</th></tr><tr><td>str</td><td>u32</td></tr></thead><tbody><tr><td>null</td><td>2</td></tr><tr><td>&quot; AMPI R, CIPRO R, GENTA R, SUL…</td><td>1</td></tr><tr><td>&quot;NO&quot;</td><td>561</td></tr><tr><td>&quot;RESISTENTE A AMPI, SULFA, CEFA…</td><td>2</td></tr><tr><td>&quot;MULTI SENSIBLE&quot;</td><td>2</td></tr><tr><td>&quot;RESISTENTE A AMPI, CIPRO Y GEN…</td><td>2</td></tr></tbody></table></div>"
      ],
      "text/plain": [
       "shape: (6, 2)\n",
       "┌─────────────────────────────────┬───────┐\n",
       "│ PATRON DE RESISTENCIA           ┆ count │\n",
       "│ ---                             ┆ ---   │\n",
       "│ str                             ┆ u32   │\n",
       "╞═════════════════════════════════╪═══════╡\n",
       "│ null                            ┆ 2     │\n",
       "│  AMPI R, CIPRO R, GENTA R, SUL… ┆ 1     │\n",
       "│ NO                              ┆ 561   │\n",
       "│ RESISTENTE A AMPI, SULFA, CEFA… ┆ 2     │\n",
       "│ MULTI SENSIBLE                  ┆ 2     │\n",
       "│ RESISTENTE A AMPI, CIPRO Y GEN… ┆ 2     │\n",
       "└─────────────────────────────────┴───────┘"
      ]
     },
     "execution_count": 8,
     "metadata": {},
     "output_type": "execute_result"
    }
   ],
   "source": [
    "# DATA COMPLETA\n",
    "df['PATRON DE RESISTENCIA'].value_counts()"
   ]
  },
  {
   "cell_type": "markdown",
   "metadata": {},
   "source": [
    "***\n",
    "#### **Agente Aislado**"
   ]
  },
  {
   "cell_type": "code",
   "execution_count": 9,
   "metadata": {},
   "outputs": [
    {
     "data": {
      "text/html": [
       "<div><style>\n",
       ".dataframe > thead > tr,\n",
       ".dataframe > tbody > tr {\n",
       "  text-align: right;\n",
       "  white-space: pre-wrap;\n",
       "}\n",
       "</style>\n",
       "<small>shape: (3, 2)</small><table border=\"1\" class=\"dataframe\"><thead><tr><th>AGENTE AISLADO</th><th>count</th></tr><tr><td>str</td><td>u32</td></tr></thead><tbody><tr><td>&quot;NO&quot;</td><td>16</td></tr><tr><td>&quot;E.COLI&quot;</td><td>6</td></tr><tr><td>&quot;PSEUDOMONAS AERUGINOSA&quot;</td><td>2</td></tr></tbody></table></div>"
      ],
      "text/plain": [
       "shape: (3, 2)\n",
       "┌────────────────────────┬───────┐\n",
       "│ AGENTE AISLADO         ┆ count │\n",
       "│ ---                    ┆ ---   │\n",
       "│ str                    ┆ u32   │\n",
       "╞════════════════════════╪═══════╡\n",
       "│ NO                     ┆ 16    │\n",
       "│ E.COLI                 ┆ 6     │\n",
       "│ PSEUDOMONAS AERUGINOSA ┆ 2     │\n",
       "└────────────────────────┴───────┘"
      ]
     },
     "execution_count": 9,
     "metadata": {},
     "output_type": "execute_result"
    }
   ],
   "source": [
    "# Hospitalizacion = 'SI'\n",
    "df.filter(mask)['AGENTE AISLADO'].value_counts()"
   ]
  },
  {
   "cell_type": "code",
   "execution_count": 10,
   "metadata": {},
   "outputs": [
    {
     "data": {
      "text/html": [
       "<div><style>\n",
       ".dataframe > thead > tr,\n",
       ".dataframe > tbody > tr {\n",
       "  text-align: right;\n",
       "  white-space: pre-wrap;\n",
       "}\n",
       "</style>\n",
       "<small>shape: (4, 2)</small><table border=\"1\" class=\"dataframe\"><thead><tr><th>AGENTE AISLADO</th><th>count</th></tr><tr><td>str</td><td>u32</td></tr></thead><tbody><tr><td>&quot;E.COLI&quot;</td><td>6</td></tr><tr><td>&quot;PSEUDOMONAS AERUGINOSA&quot;</td><td>2</td></tr><tr><td>null</td><td>19</td></tr><tr><td>&quot;NO&quot;</td><td>543</td></tr></tbody></table></div>"
      ],
      "text/plain": [
       "shape: (4, 2)\n",
       "┌────────────────────────┬───────┐\n",
       "│ AGENTE AISLADO         ┆ count │\n",
       "│ ---                    ┆ ---   │\n",
       "│ str                    ┆ u32   │\n",
       "╞════════════════════════╪═══════╡\n",
       "│ E.COLI                 ┆ 6     │\n",
       "│ PSEUDOMONAS AERUGINOSA ┆ 2     │\n",
       "│ null                   ┆ 19    │\n",
       "│ NO                     ┆ 543   │\n",
       "└────────────────────────┴───────┘"
      ]
     },
     "execution_count": 10,
     "metadata": {},
     "output_type": "execute_result"
    }
   ],
   "source": [
    "# DATA COMPLETA\n",
    "df['AGENTE AISLADO'].value_counts()"
   ]
  },
  {
   "cell_type": "markdown",
   "metadata": {},
   "source": [
    "***\n",
    "#### **En que dia POST-BIOPSIA se presenta la Infeccion**\n"
   ]
  },
  {
   "cell_type": "code",
   "execution_count": 11,
   "metadata": {},
   "outputs": [
    {
     "data": {
      "text/html": [
       "<div><style>\n",
       ".dataframe > thead > tr,\n",
       ".dataframe > tbody > tr {\n",
       "  text-align: right;\n",
       "  white-space: pre-wrap;\n",
       "}\n",
       "</style>\n",
       "<small>shape: (4, 2)</small><table border=\"1\" class=\"dataframe\"><thead><tr><th>NUMERO DE DIAS POST BIOPSIA EN QUE SE PRESENTA LA COMPLICACIÓN INFECCIOSA</th><th>count</th></tr><tr><td>str</td><td>u32</td></tr></thead><tbody><tr><td>&quot;1&quot;</td><td>5</td></tr><tr><td>&quot;5&quot;</td><td>2</td></tr><tr><td>&quot;3&quot;</td><td>8</td></tr><tr><td>&quot;2&quot;</td><td>9</td></tr></tbody></table></div>"
      ],
      "text/plain": [
       "shape: (4, 2)\n",
       "┌─────────────────────────────────┬───────┐\n",
       "│ NUMERO DE DIAS POST BIOPSIA EN… ┆ count │\n",
       "│ ---                             ┆ ---   │\n",
       "│ str                             ┆ u32   │\n",
       "╞═════════════════════════════════╪═══════╡\n",
       "│ 1                               ┆ 5     │\n",
       "│ 5                               ┆ 2     │\n",
       "│ 3                               ┆ 8     │\n",
       "│ 2                               ┆ 9     │\n",
       "└─────────────────────────────────┴───────┘"
      ]
     },
     "execution_count": 11,
     "metadata": {},
     "output_type": "execute_result"
    }
   ],
   "source": [
    "# Hospitalizacion = 'SI'\n",
    "df.filter(mask)['NUMERO DE DIAS POST BIOPSIA EN QUE SE PRESENTA LA COMPLICACIÓN INFECCIOSA'].value_counts()"
   ]
  },
  {
   "cell_type": "code",
   "execution_count": 12,
   "metadata": {},
   "outputs": [
    {
     "data": {
      "text/html": [
       "<div><style>\n",
       ".dataframe > thead > tr,\n",
       ".dataframe > tbody > tr {\n",
       "  text-align: right;\n",
       "  white-space: pre-wrap;\n",
       "}\n",
       "</style>\n",
       "<small>shape: (7, 2)</small><table border=\"1\" class=\"dataframe\"><thead><tr><th>NUMERO DE DIAS POST BIOPSIA EN QUE SE PRESENTA LA COMPLICACIÓN INFECCIOSA</th><th>count</th></tr><tr><td>str</td><td>u32</td></tr></thead><tbody><tr><td>&quot;3&quot;</td><td>8</td></tr><tr><td>&quot;2&quot;</td><td>9</td></tr><tr><td>&quot;5&quot;</td><td>2</td></tr><tr><td>&quot;9&quot;</td><td>2</td></tr><tr><td>&quot;1&quot;</td><td>5</td></tr><tr><td>null</td><td>2</td></tr><tr><td>&quot;NO&quot;</td><td>542</td></tr></tbody></table></div>"
      ],
      "text/plain": [
       "shape: (7, 2)\n",
       "┌─────────────────────────────────┬───────┐\n",
       "│ NUMERO DE DIAS POST BIOPSIA EN… ┆ count │\n",
       "│ ---                             ┆ ---   │\n",
       "│ str                             ┆ u32   │\n",
       "╞═════════════════════════════════╪═══════╡\n",
       "│ 3                               ┆ 8     │\n",
       "│ 2                               ┆ 9     │\n",
       "│ 5                               ┆ 2     │\n",
       "│ 9                               ┆ 2     │\n",
       "│ 1                               ┆ 5     │\n",
       "│ null                            ┆ 2     │\n",
       "│ NO                              ┆ 542   │\n",
       "└─────────────────────────────────┴───────┘"
      ]
     },
     "execution_count": 12,
     "metadata": {},
     "output_type": "execute_result"
    }
   ],
   "source": [
    "# DATA COMPLETA\n",
    "df['NUMERO DE DIAS POST BIOPSIA EN QUE SE PRESENTA LA COMPLICACIÓN INFECCIOSA'].value_counts()"
   ]
  },
  {
   "cell_type": "markdown",
   "metadata": {},
   "source": [
    "***\n",
    "#### **Volumen Prostático**"
   ]
  },
  {
   "cell_type": "code",
   "execution_count": 13,
   "metadata": {},
   "outputs": [
    {
     "data": {
      "text/html": [
       "<div><style>\n",
       ".dataframe > thead > tr,\n",
       ".dataframe > tbody > tr {\n",
       "  text-align: right;\n",
       "  white-space: pre-wrap;\n",
       "}\n",
       "</style>\n",
       "<small>shape: (2, 2)</small><table border=\"1\" class=\"dataframe\"><thead><tr><th>VOLUMEN PROSTATICO</th><th>count</th></tr><tr><td>str</td><td>u32</td></tr></thead><tbody><tr><td>&quot;SI&quot;</td><td>18</td></tr><tr><td>&quot;NO&quot;</td><td>6</td></tr></tbody></table></div>"
      ],
      "text/plain": [
       "shape: (2, 2)\n",
       "┌────────────────────┬───────┐\n",
       "│ VOLUMEN PROSTATICO ┆ count │\n",
       "│ ---                ┆ ---   │\n",
       "│ str                ┆ u32   │\n",
       "╞════════════════════╪═══════╡\n",
       "│ SI                 ┆ 18    │\n",
       "│ NO                 ┆ 6     │\n",
       "└────────────────────┴───────┘"
      ]
     },
     "execution_count": 13,
     "metadata": {},
     "output_type": "execute_result"
    }
   ],
   "source": [
    "# Hospitalizacion = 'SI'\n",
    "df.filter(mask)['VOLUMEN PROSTATICO'].value_counts()"
   ]
  },
  {
   "cell_type": "code",
   "execution_count": 14,
   "metadata": {},
   "outputs": [
    {
     "data": {
      "text/html": [
       "<div><style>\n",
       ".dataframe > thead > tr,\n",
       ".dataframe > tbody > tr {\n",
       "  text-align: right;\n",
       "  white-space: pre-wrap;\n",
       "}\n",
       "</style>\n",
       "<small>shape: (3, 2)</small><table border=\"1\" class=\"dataframe\"><thead><tr><th>VOLUMEN PROSTATICO</th><th>count</th></tr><tr><td>str</td><td>u32</td></tr></thead><tbody><tr><td>&quot;NO&quot;</td><td>159</td></tr><tr><td>null</td><td>3</td></tr><tr><td>&quot;SI&quot;</td><td>408</td></tr></tbody></table></div>"
      ],
      "text/plain": [
       "shape: (3, 2)\n",
       "┌────────────────────┬───────┐\n",
       "│ VOLUMEN PROSTATICO ┆ count │\n",
       "│ ---                ┆ ---   │\n",
       "│ str                ┆ u32   │\n",
       "╞════════════════════╪═══════╡\n",
       "│ NO                 ┆ 159   │\n",
       "│ null               ┆ 3     │\n",
       "│ SI                 ┆ 408   │\n",
       "└────────────────────┴───────┘"
      ]
     },
     "execution_count": 14,
     "metadata": {},
     "output_type": "execute_result"
    }
   ],
   "source": [
    "# DATA COMPLETA\n",
    "df['VOLUMEN PROSTATICO'].value_counts()"
   ]
  },
  {
   "cell_type": "markdown",
   "metadata": {},
   "source": [
    "***\n",
    "#### **Dias Hospitalizacion MQ**"
   ]
  },
  {
   "cell_type": "code",
   "execution_count": 15,
   "metadata": {},
   "outputs": [
    {
     "data": {
      "text/html": [
       "<div><style>\n",
       ".dataframe > thead > tr,\n",
       ".dataframe > tbody > tr {\n",
       "  text-align: right;\n",
       "  white-space: pre-wrap;\n",
       "}\n",
       "</style>\n",
       "<small>shape: (5, 2)</small><table border=\"1\" class=\"dataframe\"><thead><tr><th>DIAS HOSPITALIZACION MQ</th><th>count</th></tr><tr><td>i64</td><td>u32</td></tr></thead><tbody><tr><td>2</td><td>8</td></tr><tr><td>3</td><td>5</td></tr><tr><td>4</td><td>6</td></tr><tr><td>12</td><td>2</td></tr><tr><td>5</td><td>3</td></tr></tbody></table></div>"
      ],
      "text/plain": [
       "shape: (5, 2)\n",
       "┌─────────────────────────┬───────┐\n",
       "│ DIAS HOSPITALIZACION MQ ┆ count │\n",
       "│ ---                     ┆ ---   │\n",
       "│ i64                     ┆ u32   │\n",
       "╞═════════════════════════╪═══════╡\n",
       "│ 2                       ┆ 8     │\n",
       "│ 3                       ┆ 5     │\n",
       "│ 4                       ┆ 6     │\n",
       "│ 12                      ┆ 2     │\n",
       "│ 5                       ┆ 3     │\n",
       "└─────────────────────────┴───────┘"
      ]
     },
     "execution_count": 15,
     "metadata": {},
     "output_type": "execute_result"
    }
   ],
   "source": [
    "# ESTA ESTA DIRECTA SI HUBO HOSPITALIZACION MQ HUBO HOSPITALIZACION\n",
    "# Hospitalizacion = 'SI'\n",
    "df.filter(mask)['DIAS HOSPITALIZACION MQ'].value_counts()"
   ]
  },
  {
   "cell_type": "code",
   "execution_count": 16,
   "metadata": {},
   "outputs": [
    {
     "data": {
      "text/html": [
       "<div><style>\n",
       ".dataframe > thead > tr,\n",
       ".dataframe > tbody > tr {\n",
       "  text-align: right;\n",
       "  white-space: pre-wrap;\n",
       "}\n",
       "</style>\n",
       "<small>shape: (7, 2)</small><table border=\"1\" class=\"dataframe\"><thead><tr><th>DIAS HOSPITALIZACION MQ</th><th>count</th></tr><tr><td>i64</td><td>u32</td></tr></thead><tbody><tr><td>12</td><td>2</td></tr><tr><td>4</td><td>6</td></tr><tr><td>null</td><td>2</td></tr><tr><td>2</td><td>8</td></tr><tr><td>0</td><td>544</td></tr><tr><td>3</td><td>5</td></tr><tr><td>5</td><td>3</td></tr></tbody></table></div>"
      ],
      "text/plain": [
       "shape: (7, 2)\n",
       "┌─────────────────────────┬───────┐\n",
       "│ DIAS HOSPITALIZACION MQ ┆ count │\n",
       "│ ---                     ┆ ---   │\n",
       "│ i64                     ┆ u32   │\n",
       "╞═════════════════════════╪═══════╡\n",
       "│ 12                      ┆ 2     │\n",
       "│ 4                       ┆ 6     │\n",
       "│ null                    ┆ 2     │\n",
       "│ 2                       ┆ 8     │\n",
       "│ 0                       ┆ 544   │\n",
       "│ 3                       ┆ 5     │\n",
       "│ 5                       ┆ 3     │\n",
       "└─────────────────────────┴───────┘"
      ]
     },
     "execution_count": 16,
     "metadata": {},
     "output_type": "execute_result"
    }
   ],
   "source": [
    "# DATA COMPLETA\n",
    "df['DIAS HOSPITALIZACION MQ'].value_counts()"
   ]
  },
  {
   "cell_type": "markdown",
   "metadata": {},
   "source": [
    "***\n",
    "#### **Dias Hospitalizacion UPC**"
   ]
  },
  {
   "cell_type": "code",
   "execution_count": 17,
   "metadata": {},
   "outputs": [
    {
     "data": {
      "text/html": [
       "<div><style>\n",
       ".dataframe > thead > tr,\n",
       ".dataframe > tbody > tr {\n",
       "  text-align: right;\n",
       "  white-space: pre-wrap;\n",
       "}\n",
       "</style>\n",
       "<small>shape: (3, 2)</small><table border=\"1\" class=\"dataframe\"><thead><tr><th>DIAS HOSPITALIZACIÓN UPC</th><th>count</th></tr><tr><td>i64</td><td>u32</td></tr></thead><tbody><tr><td>0</td><td>21</td></tr><tr><td>2</td><td>1</td></tr><tr><td>3</td><td>2</td></tr></tbody></table></div>"
      ],
      "text/plain": [
       "shape: (3, 2)\n",
       "┌──────────────────────────┬───────┐\n",
       "│ DIAS HOSPITALIZACIÓN UPC ┆ count │\n",
       "│ ---                      ┆ ---   │\n",
       "│ i64                      ┆ u32   │\n",
       "╞══════════════════════════╪═══════╡\n",
       "│ 0                        ┆ 21    │\n",
       "│ 2                        ┆ 1     │\n",
       "│ 3                        ┆ 2     │\n",
       "└──────────────────────────┴───────┘"
      ]
     },
     "execution_count": 17,
     "metadata": {},
     "output_type": "execute_result"
    }
   ],
   "source": [
    "# Hospitalizacion = 'Si'\n",
    "df.filter(mask)['DIAS HOSPITALIZACIÓN UPC'].value_counts()"
   ]
  },
  {
   "cell_type": "code",
   "execution_count": 18,
   "metadata": {},
   "outputs": [
    {
     "data": {
      "text/html": [
       "<div><style>\n",
       ".dataframe > thead > tr,\n",
       ".dataframe > tbody > tr {\n",
       "  text-align: right;\n",
       "  white-space: pre-wrap;\n",
       "}\n",
       "</style>\n",
       "<small>shape: (4, 2)</small><table border=\"1\" class=\"dataframe\"><thead><tr><th>DIAS HOSPITALIZACIÓN UPC</th><th>count</th></tr><tr><td>i64</td><td>u32</td></tr></thead><tbody><tr><td>null</td><td>2</td></tr><tr><td>2</td><td>1</td></tr><tr><td>3</td><td>2</td></tr><tr><td>0</td><td>565</td></tr></tbody></table></div>"
      ],
      "text/plain": [
       "shape: (4, 2)\n",
       "┌──────────────────────────┬───────┐\n",
       "│ DIAS HOSPITALIZACIÓN UPC ┆ count │\n",
       "│ ---                      ┆ ---   │\n",
       "│ i64                      ┆ u32   │\n",
       "╞══════════════════════════╪═══════╡\n",
       "│ null                     ┆ 2     │\n",
       "│ 2                        ┆ 1     │\n",
       "│ 3                        ┆ 2     │\n",
       "│ 0                        ┆ 565   │\n",
       "└──────────────────────────┴───────┘"
      ]
     },
     "execution_count": 18,
     "metadata": {},
     "output_type": "execute_result"
    }
   ],
   "source": [
    "# DATA COMPLETA\n",
    "df['DIAS HOSPITALIZACIÓN UPC'].value_counts()"
   ]
  },
  {
   "cell_type": "markdown",
   "metadata": {},
   "source": [
    "***\n",
    "#### **NUMERO DE DIAS POST BIOPSIA EN QUE SE PRESENTA LA COMPLICACIÓN INFECCIOSA**"
   ]
  },
  {
   "cell_type": "code",
   "execution_count": 19,
   "metadata": {},
   "outputs": [
    {
     "data": {
      "text/html": [
       "<div><style>\n",
       ".dataframe > thead > tr,\n",
       ".dataframe > tbody > tr {\n",
       "  text-align: right;\n",
       "  white-space: pre-wrap;\n",
       "}\n",
       "</style>\n",
       "<small>shape: (4, 2)</small><table border=\"1\" class=\"dataframe\"><thead><tr><th>NUMERO DE DIAS POST BIOPSIA EN QUE SE PRESENTA LA COMPLICACIÓN INFECCIOSA</th><th>count</th></tr><tr><td>str</td><td>u32</td></tr></thead><tbody><tr><td>&quot;1&quot;</td><td>5</td></tr><tr><td>&quot;2&quot;</td><td>9</td></tr><tr><td>&quot;3&quot;</td><td>8</td></tr><tr><td>&quot;5&quot;</td><td>2</td></tr></tbody></table></div>"
      ],
      "text/plain": [
       "shape: (4, 2)\n",
       "┌─────────────────────────────────┬───────┐\n",
       "│ NUMERO DE DIAS POST BIOPSIA EN… ┆ count │\n",
       "│ ---                             ┆ ---   │\n",
       "│ str                             ┆ u32   │\n",
       "╞═════════════════════════════════╪═══════╡\n",
       "│ 1                               ┆ 5     │\n",
       "│ 2                               ┆ 9     │\n",
       "│ 3                               ┆ 8     │\n",
       "│ 5                               ┆ 2     │\n",
       "└─────────────────────────────────┴───────┘"
      ]
     },
     "execution_count": 19,
     "metadata": {},
     "output_type": "execute_result"
    }
   ],
   "source": [
    "# Hospitalizacion = 'Si'\n",
    "df.filter(mask)['NUMERO DE DIAS POST BIOPSIA EN QUE SE PRESENTA LA COMPLICACIÓN INFECCIOSA'].value_counts()"
   ]
  },
  {
   "cell_type": "code",
   "execution_count": 20,
   "metadata": {},
   "outputs": [
    {
     "data": {
      "text/html": [
       "<div><style>\n",
       ".dataframe > thead > tr,\n",
       ".dataframe > tbody > tr {\n",
       "  text-align: right;\n",
       "  white-space: pre-wrap;\n",
       "}\n",
       "</style>\n",
       "<small>shape: (7, 2)</small><table border=\"1\" class=\"dataframe\"><thead><tr><th>NUMERO DE DIAS POST BIOPSIA EN QUE SE PRESENTA LA COMPLICACIÓN INFECCIOSA</th><th>count</th></tr><tr><td>str</td><td>u32</td></tr></thead><tbody><tr><td>&quot;3&quot;</td><td>8</td></tr><tr><td>&quot;9&quot;</td><td>2</td></tr><tr><td>&quot;NO&quot;</td><td>542</td></tr><tr><td>null</td><td>2</td></tr><tr><td>&quot;5&quot;</td><td>2</td></tr><tr><td>&quot;2&quot;</td><td>9</td></tr><tr><td>&quot;1&quot;</td><td>5</td></tr></tbody></table></div>"
      ],
      "text/plain": [
       "shape: (7, 2)\n",
       "┌─────────────────────────────────┬───────┐\n",
       "│ NUMERO DE DIAS POST BIOPSIA EN… ┆ count │\n",
       "│ ---                             ┆ ---   │\n",
       "│ str                             ┆ u32   │\n",
       "╞═════════════════════════════════╪═══════╡\n",
       "│ 3                               ┆ 8     │\n",
       "│ 9                               ┆ 2     │\n",
       "│ NO                              ┆ 542   │\n",
       "│ null                            ┆ 2     │\n",
       "│ 5                               ┆ 2     │\n",
       "│ 2                               ┆ 9     │\n",
       "│ 1                               ┆ 5     │\n",
       "└─────────────────────────────────┴───────┘"
      ]
     },
     "execution_count": 20,
     "metadata": {},
     "output_type": "execute_result"
    }
   ],
   "source": [
    "# DATA COMPLETA\n",
    "df['NUMERO DE DIAS POST BIOPSIA EN QUE SE PRESENTA LA COMPLICACIÓN INFECCIOSA'].value_counts()"
   ]
  },
  {
   "cell_type": "markdown",
   "metadata": {},
   "source": [
    "***\n",
    "#### **Fiebre**"
   ]
  },
  {
   "cell_type": "code",
   "execution_count": 21,
   "metadata": {},
   "outputs": [
    {
     "data": {
      "text/html": [
       "<div><style>\n",
       ".dataframe > thead > tr,\n",
       ".dataframe > tbody > tr {\n",
       "  text-align: right;\n",
       "  white-space: pre-wrap;\n",
       "}\n",
       "</style>\n",
       "<small>shape: (2, 2)</small><table border=\"1\" class=\"dataframe\"><thead><tr><th>FIEBRE</th><th>count</th></tr><tr><td>str</td><td>u32</td></tr></thead><tbody><tr><td>&quot;SI&quot;</td><td>21</td></tr><tr><td>&quot;NO&quot;</td><td>3</td></tr></tbody></table></div>"
      ],
      "text/plain": [
       "shape: (2, 2)\n",
       "┌────────┬───────┐\n",
       "│ FIEBRE ┆ count │\n",
       "│ ---    ┆ ---   │\n",
       "│ str    ┆ u32   │\n",
       "╞════════╪═══════╡\n",
       "│ SI     ┆ 21    │\n",
       "│ NO     ┆ 3     │\n",
       "└────────┴───────┘"
      ]
     },
     "execution_count": 21,
     "metadata": {},
     "output_type": "execute_result"
    }
   ],
   "source": [
    "# Hospitalizacion = 'SI'\n",
    "df.filter(mask)['FIEBRE'].value_counts()"
   ]
  },
  {
   "cell_type": "code",
   "execution_count": 22,
   "metadata": {},
   "outputs": [
    {
     "data": {
      "text/html": [
       "<div><style>\n",
       ".dataframe > thead > tr,\n",
       ".dataframe > tbody > tr {\n",
       "  text-align: right;\n",
       "  white-space: pre-wrap;\n",
       "}\n",
       "</style>\n",
       "<small>shape: (3, 2)</small><table border=\"1\" class=\"dataframe\"><thead><tr><th>FIEBRE</th><th>count</th></tr><tr><td>str</td><td>u32</td></tr></thead><tbody><tr><td>&quot;NO&quot;</td><td>531</td></tr><tr><td>&quot;SI&quot;</td><td>37</td></tr><tr><td>null</td><td>2</td></tr></tbody></table></div>"
      ],
      "text/plain": [
       "shape: (3, 2)\n",
       "┌────────┬───────┐\n",
       "│ FIEBRE ┆ count │\n",
       "│ ---    ┆ ---   │\n",
       "│ str    ┆ u32   │\n",
       "╞════════╪═══════╡\n",
       "│ NO     ┆ 531   │\n",
       "│ SI     ┆ 37    │\n",
       "│ null   ┆ 2     │\n",
       "└────────┴───────┘"
      ]
     },
     "execution_count": 22,
     "metadata": {},
     "output_type": "execute_result"
    }
   ],
   "source": [
    "# DATA COMPLETA\n",
    "df['FIEBRE'].value_counts()"
   ]
  },
  {
   "cell_type": "markdown",
   "metadata": {},
   "source": [
    "***\n",
    "#### **ITU**"
   ]
  },
  {
   "cell_type": "code",
   "execution_count": 23,
   "metadata": {},
   "outputs": [
    {
     "data": {
      "text/html": [
       "<div><style>\n",
       ".dataframe > thead > tr,\n",
       ".dataframe > tbody > tr {\n",
       "  text-align: right;\n",
       "  white-space: pre-wrap;\n",
       "}\n",
       "</style>\n",
       "<small>shape: (2, 2)</small><table border=\"1\" class=\"dataframe\"><thead><tr><th>ITU</th><th>count</th></tr><tr><td>str</td><td>u32</td></tr></thead><tbody><tr><td>&quot;NO&quot;</td><td>18</td></tr><tr><td>&quot;SI&quot;</td><td>6</td></tr></tbody></table></div>"
      ],
      "text/plain": [
       "shape: (2, 2)\n",
       "┌─────┬───────┐\n",
       "│ ITU ┆ count │\n",
       "│ --- ┆ ---   │\n",
       "│ str ┆ u32   │\n",
       "╞═════╪═══════╡\n",
       "│ NO  ┆ 18    │\n",
       "│ SI  ┆ 6     │\n",
       "└─────┴───────┘"
      ]
     },
     "execution_count": 23,
     "metadata": {},
     "output_type": "execute_result"
    }
   ],
   "source": [
    "# Hospitalizacion = 'SI'  \n",
    "df.filter(mask)['ITU'].value_counts()"
   ]
  },
  {
   "cell_type": "code",
   "execution_count": 24,
   "metadata": {},
   "outputs": [
    {
     "data": {
      "text/html": [
       "<div><style>\n",
       ".dataframe > thead > tr,\n",
       ".dataframe > tbody > tr {\n",
       "  text-align: right;\n",
       "  white-space: pre-wrap;\n",
       "}\n",
       "</style>\n",
       "<small>shape: (3, 2)</small><table border=\"1\" class=\"dataframe\"><thead><tr><th>ITU</th><th>count</th></tr><tr><td>str</td><td>u32</td></tr></thead><tbody><tr><td>&quot;NO&quot;</td><td>562</td></tr><tr><td>null</td><td>2</td></tr><tr><td>&quot;SI&quot;</td><td>6</td></tr></tbody></table></div>"
      ],
      "text/plain": [
       "shape: (3, 2)\n",
       "┌──────┬───────┐\n",
       "│ ITU  ┆ count │\n",
       "│ ---  ┆ ---   │\n",
       "│ str  ┆ u32   │\n",
       "╞══════╪═══════╡\n",
       "│ NO   ┆ 562   │\n",
       "│ null ┆ 2     │\n",
       "│ SI   ┆ 6     │\n",
       "└──────┴───────┘"
      ]
     },
     "execution_count": 24,
     "metadata": {},
     "output_type": "execute_result"
    }
   ],
   "source": [
    "# DATA COMPLETA\n",
    "df['ITU'].value_counts()"
   ]
  },
  {
   "cell_type": "markdown",
   "metadata": {},
   "source": [
    "***\n",
    "***\n",
    "El Estudio pide `predecir el dia que se realiza la Biopsia` la Probabilidad de que el Paciente sea Hospitalizado en los siguientes 30 dias.  Variables como 'DIAS HOSPITALIZACIÓN UPC', o 'NUMERO DE DIAS POST BIOPSIA EN QUE SE PRESENTA LA COMPLICACIÓN INFECCIOSA' son variables que claramente ocurren despues del dia de la Biopsia. <br>\n",
    "Por otra parte Variables como 'PATRON DE RESISTENCIA' o 'TIPO DE CULTIVO' asumiré que tambien son Variables Posteriores al dia de la Biopsia, y que dichos estudios se realizan a las muestras obtenidas durante la Profilaxis.  Pero cabe aclarar que sería interesante conocer a fondo sobre la parte médica ya que son estudios que pudieran realizarce antes de la Profilaxis mediante un examen de Orina.  Estas Variables aunque no estan en el modelo deben ser informadas al Cliente, ya que `son muy importantes para determinar posibilidad de Hospitalizacion sin necesidad de Modelo`, y pudieran adelantarse, como se dijo anteriormente con examen de orina.  <br>\n",
    "Bien pero como no son las unicas variables en juego seguiremos con las demas variables armando el modelo  "
   ]
  },
  {
   "cell_type": "code",
   "execution_count": 25,
   "metadata": {},
   "outputs": [],
   "source": [
    "columnas_a_borrar = ['PATRON DE RESISTENCIA', 'TIPO DE CULTIVO', 'DIAS HOSPITALIZACION MQ', \n",
    "            'DIAS HOSPITALIZACIÓN UPC', 'NUMERO DE DIAS POST BIOPSIA EN QUE SE PRESENTA LA COMPLICACIÓN INFECCIOSA',\n",
    "            'ITU', 'AGENTE AISLADO', 'CUP', 'ENF. CRONICA PULMONAR OBSTRUCTIVA' ]\n",
    "\n",
    "categorical_bi = ['BIOPSIAS PREVIAS', 'CUP', 'DIABETES', 'FIEBRE', 'HOSPITALIZACION',  'HOSPITALIZACIÓN ULTIMO MES',\n",
    "                  'ITU', 'NUMERO DE DIAS POST BIOPSIA EN QUE SE PRESENTA LA COMPLICACIÓN INFECCIOSA', 'VOLUMEN PROSTATICO']"
   ]
  },
  {
   "cell_type": "markdown",
   "metadata": {},
   "source": [
    "Todas las Columnas cuyos valores son 'Si' ó 'No' las voy a pasar a 1 ó 0"
   ]
  },
  {
   "cell_type": "code",
   "execution_count": 26,
   "metadata": {},
   "outputs": [],
   "source": [
    "for column in categorical_bi:\n",
    "    df = df.with_columns(\n",
    "        pl.when(pl.col(column) == 'NO')\n",
    "          .then(pl.lit(0)).otherwise(pl.lit(1))\n",
    "          .alias(column)  \n",
    "    ) "
   ]
  },
  {
   "cell_type": "markdown",
   "metadata": {},
   "source": [
    "Necesitamos pasar algunas Variables de String a Numericas, en PSA tenemos que reemplazar la `,` por el `.` primero"
   ]
  },
  {
   "cell_type": "code",
   "execution_count": 27,
   "metadata": {},
   "outputs": [],
   "source": [
    "df = df.with_columns(\n",
    "    pl.col('NUMERO DE DIAS POST BIOPSIA EN QUE SE PRESENTA LA COMPLICACIÓN INFECCIOSA').cast(pl.Float32)\n",
    "      .alias('NUMERO DE DIAS POST BIOPSIA EN QUE SE PRESENTA LA COMPLICACIÓN INFECCIOSA') \n",
    ")\n",
    "\n",
    "df = df.with_columns(pl.col('PSA').str.replace(',','.').alias('PSA'))\n",
    "df = df.with_columns(pl.col('PSA').cast(pl.Float32).alias('PSA'))\n"
   ]
  },
  {
   "cell_type": "markdown",
   "metadata": {},
   "source": [
    "Tenemos una Data con un desbalanceo MUY NOTORIO.  Al tener dos registros con edades atipicas y que no pertenecen a la clase Minoritaria (Hospitalizacion = 1), los eliminaré"
   ]
  },
  {
   "cell_type": "code",
   "execution_count": 28,
   "metadata": {},
   "outputs": [
    {
     "data": {
      "text/html": [
       "<div><style>\n",
       ".dataframe > thead > tr,\n",
       ".dataframe > tbody > tr {\n",
       "  text-align: right;\n",
       "  white-space: pre-wrap;\n",
       "}\n",
       "</style>\n",
       "<small>shape: (2, 20)</small><table border=\"1\" class=\"dataframe\"><thead><tr><th>EDAD</th><th>DIABETES</th><th>HOSPITALIZACIÓN ULTIMO MES</th><th>PSA</th><th>BIOPSIAS PREVIAS</th><th>VOLUMEN PROSTATICO</th><th>ANTIBIOTICO UTILIAZADO EN LA PROFILAXIS</th><th>NUMERO DE MUESTRAS TOMADAS</th><th>CUP</th><th>ENF. CRONICA PULMONAR OBSTRUCTIVA</th><th>BIOPSIA</th><th>NUMERO DE DIAS POST BIOPSIA EN QUE SE PRESENTA LA COMPLICACIÓN INFECCIOSA</th><th>FIEBRE</th><th>ITU</th><th>TIPO DE CULTIVO</th><th>AGENTE AISLADO</th><th>PATRON DE RESISTENCIA</th><th>HOSPITALIZACION</th><th>DIAS HOSPITALIZACION MQ</th><th>DIAS HOSPITALIZACIÓN UPC</th></tr><tr><td>i64</td><td>i32</td><td>i32</td><td>f32</td><td>i32</td><td>i32</td><td>str</td><td>i64</td><td>i32</td><td>str</td><td>str</td><td>f32</td><td>i32</td><td>i32</td><td>str</td><td>str</td><td>str</td><td>i32</td><td>i64</td><td>i64</td></tr></thead><tbody><tr><td>143</td><td>1</td><td>0</td><td>6.8</td><td>0</td><td>0</td><td>&quot;FLUOROQUINOLONA_AMINOGLICOSIDO&quot;</td><td>12</td><td>0</td><td>&quot;NO&quot;</td><td>&quot;NEG&quot;</td><td>0.0</td><td>0</td><td>0</td><td>&quot;NO&quot;</td><td>&quot;NO&quot;</td><td>&quot;NO&quot;</td><td>0</td><td>0</td><td>0</td></tr><tr><td>151</td><td>0</td><td>0</td><td>5.7</td><td>0</td><td>1</td><td>&quot;OTROS&quot;</td><td>12</td><td>0</td><td>&quot;NO&quot;</td><td>&quot;NEG&quot;</td><td>0.0</td><td>0</td><td>0</td><td>&quot;NO&quot;</td><td>&quot;NO&quot;</td><td>&quot;NO&quot;</td><td>0</td><td>0</td><td>0</td></tr></tbody></table></div>"
      ],
      "text/plain": [
       "shape: (2, 20)\n",
       "┌──────┬──────────┬──────────────┬─────┬───┬─────────────┬─────────────┬─────────────┬─────────────┐\n",
       "│ EDAD ┆ DIABETES ┆ HOSPITALIZAC ┆ PSA ┆ … ┆ PATRON DE   ┆ HOSPITALIZA ┆ DIAS HOSPIT ┆ DIAS HOSPIT │\n",
       "│ ---  ┆ ---      ┆ IÓN ULTIMO   ┆ --- ┆   ┆ RESISTENCIA ┆ CION        ┆ ALIZACION   ┆ ALIZACIÓN   │\n",
       "│ i64  ┆ i32      ┆ MES          ┆ f32 ┆   ┆ ---         ┆ ---         ┆ MQ          ┆ UPC         │\n",
       "│      ┆          ┆ ---          ┆     ┆   ┆ str         ┆ i32         ┆ ---         ┆ ---         │\n",
       "│      ┆          ┆ i32          ┆     ┆   ┆             ┆             ┆ i64         ┆ i64         │\n",
       "╞══════╪══════════╪══════════════╪═════╪═══╪═════════════╪═════════════╪═════════════╪═════════════╡\n",
       "│ 143  ┆ 1        ┆ 0            ┆ 6.8 ┆ … ┆ NO          ┆ 0           ┆ 0           ┆ 0           │\n",
       "│ 151  ┆ 0        ┆ 0            ┆ 5.7 ┆ … ┆ NO          ┆ 0           ┆ 0           ┆ 0           │\n",
       "└──────┴──────────┴──────────────┴─────┴───┴─────────────┴─────────────┴─────────────┴─────────────┘"
      ]
     },
     "execution_count": 28,
     "metadata": {},
     "output_type": "execute_result"
    }
   ],
   "source": [
    "mask = (df['EDAD'] == 143) | (df['EDAD'] == 151)\n",
    "df.filter(mask)"
   ]
  },
  {
   "cell_type": "code",
   "execution_count": 29,
   "metadata": {},
   "outputs": [],
   "source": [
    "mask = df['EDAD'] <= 84\n",
    "df = df.filter(mask)"
   ]
  },
  {
   "cell_type": "markdown",
   "metadata": {},
   "source": [
    "Procedo a Borrar las columnas que no van para el modelamiento"
   ]
  },
  {
   "cell_type": "code",
   "execution_count": 30,
   "metadata": {},
   "outputs": [],
   "source": [
    "df = df.drop(columnas_a_borrar)"
   ]
  },
  {
   "cell_type": "code",
   "execution_count": 31,
   "metadata": {},
   "outputs": [
    {
     "data": {
      "text/html": [
       "<div><style>\n",
       ".dataframe > thead > tr,\n",
       ".dataframe > tbody > tr {\n",
       "  text-align: right;\n",
       "  white-space: pre-wrap;\n",
       "}\n",
       "</style>\n",
       "<small>shape: (1, 11)</small><table border=\"1\" class=\"dataframe\"><thead><tr><th>EDAD</th><th>DIABETES</th><th>HOSPITALIZACIÓN ULTIMO MES</th><th>PSA</th><th>BIOPSIAS PREVIAS</th><th>VOLUMEN PROSTATICO</th><th>ANTIBIOTICO UTILIAZADO EN LA PROFILAXIS</th><th>NUMERO DE MUESTRAS TOMADAS</th><th>BIOPSIA</th><th>FIEBRE</th><th>HOSPITALIZACION</th></tr><tr><td>i64</td><td>i32</td><td>i32</td><td>f32</td><td>i32</td><td>i32</td><td>str</td><td>i64</td><td>str</td><td>i32</td><td>i32</td></tr></thead><tbody><tr><td>53</td><td>0</td><td>0</td><td>4.0</td><td>0</td><td>1</td><td>&quot;FLUOROQUINOLONA_AMINOGLICOSIDO&quot;</td><td>12</td><td>&quot;NEG&quot;</td><td>1</td><td>1</td></tr></tbody></table></div>"
      ],
      "text/plain": [
       "shape: (1, 11)\n",
       "┌──────┬──────────┬───────────────────┬─────┬───┬───────────┬─────────┬────────┬───────────────────┐\n",
       "│ EDAD ┆ DIABETES ┆ HOSPITALIZACIÓN   ┆ PSA ┆ … ┆ NUMERO DE ┆ BIOPSIA ┆ FIEBRE ┆ HOSPITALIZACION   │\n",
       "│ ---  ┆ ---      ┆ ULTIMO MES        ┆ --- ┆   ┆ MUESTRAS  ┆ ---     ┆ ---    ┆ ---               │\n",
       "│ i64  ┆ i32      ┆ ---               ┆ f32 ┆   ┆ TOMADAS   ┆ str     ┆ i32    ┆ i32               │\n",
       "│      ┆          ┆ i32               ┆     ┆   ┆ ---       ┆         ┆        ┆                   │\n",
       "│      ┆          ┆                   ┆     ┆   ┆ i64       ┆         ┆        ┆                   │\n",
       "╞══════╪══════════╪═══════════════════╪═════╪═══╪═══════════╪═════════╪════════╪═══════════════════╡\n",
       "│ 53   ┆ 0        ┆ 0                 ┆ 4.0 ┆ … ┆ 12        ┆ NEG     ┆ 1      ┆ 1                 │\n",
       "└──────┴──────────┴───────────────────┴─────┴───┴───────────┴─────────┴────────┴───────────────────┘"
      ]
     },
     "execution_count": 31,
     "metadata": {},
     "output_type": "execute_result"
    }
   ],
   "source": [
    "df.head(1)"
   ]
  },
  {
   "cell_type": "markdown",
   "metadata": {},
   "source": [
    "Verifico sí hay campos nulos en las Variables que se quedaron para el modelamiento"
   ]
  },
  {
   "cell_type": "code",
   "execution_count": 32,
   "metadata": {},
   "outputs": [
    {
     "name": "stdout",
     "output_type": "stream",
     "text": [
      "Cantidad de Nulos: 0 --> Campo: EDAD\n",
      "Cantidad de Nulos: 0 --> Campo: DIABETES\n",
      "Cantidad de Nulos: 0 --> Campo: HOSPITALIZACIÓN ULTIMO MES\n",
      "Cantidad de Nulos: 4 --> Campo: PSA\n",
      "Cantidad de Nulos: 0 --> Campo: BIOPSIAS PREVIAS\n",
      "Cantidad de Nulos: 0 --> Campo: VOLUMEN PROSTATICO\n",
      "Cantidad de Nulos: 0 --> Campo: ANTIBIOTICO UTILIAZADO EN LA PROFILAXIS\n",
      "Cantidad de Nulos: 0 --> Campo: NUMERO DE MUESTRAS TOMADAS\n",
      "Cantidad de Nulos: 0 --> Campo: BIOPSIA\n",
      "Cantidad de Nulos: 0 --> Campo: FIEBRE\n",
      "Cantidad de Nulos: 0 --> Campo: HOSPITALIZACION\n"
     ]
    }
   ],
   "source": [
    "for column in df.columns:\n",
    "    print(f'Cantidad de Nulos: {df[column].is_null().sum()} --> Campo: {column}')"
   ]
  },
  {
   "cell_type": "code",
   "execution_count": 33,
   "metadata": {},
   "outputs": [
    {
     "data": {
      "text/html": [
       "<div><style>\n",
       ".dataframe > thead > tr,\n",
       ".dataframe > tbody > tr {\n",
       "  text-align: right;\n",
       "  white-space: pre-wrap;\n",
       "}\n",
       "</style>\n",
       "<small>shape: (4, 11)</small><table border=\"1\" class=\"dataframe\"><thead><tr><th>EDAD</th><th>DIABETES</th><th>HOSPITALIZACIÓN ULTIMO MES</th><th>PSA</th><th>BIOPSIAS PREVIAS</th><th>VOLUMEN PROSTATICO</th><th>ANTIBIOTICO UTILIAZADO EN LA PROFILAXIS</th><th>NUMERO DE MUESTRAS TOMADAS</th><th>BIOPSIA</th><th>FIEBRE</th><th>HOSPITALIZACION</th></tr><tr><td>i64</td><td>i32</td><td>i32</td><td>f32</td><td>i32</td><td>i32</td><td>str</td><td>i64</td><td>str</td><td>i32</td><td>i32</td></tr></thead><tbody><tr><td>44</td><td>0</td><td>0</td><td>null</td><td>0</td><td>0</td><td>&quot;FLUOROQUINOLONA_AMINOGLICOSIDO&quot;</td><td>12</td><td>&quot;NEG&quot;</td><td>1</td><td>1</td></tr><tr><td>57</td><td>0</td><td>0</td><td>null</td><td>0</td><td>0</td><td>&quot;FLUOROQUINOLONA_AMINOGLICOSIDO&quot;</td><td>18</td><td>&quot;HIPERPLASIA PROSTATICA&quot;</td><td>0</td><td>0</td></tr><tr><td>60</td><td>0</td><td>0</td><td>null</td><td>1</td><td>1</td><td>&quot;FLUOROQUINOLONA_AMINOGLICOSIDO&quot;</td><td>16</td><td>&quot;NEG&quot;</td><td>0</td><td>0</td></tr><tr><td>62</td><td>0</td><td>0</td><td>null</td><td>0</td><td>1</td><td>&quot;FLUOROQUINOLONA_AMINOGLICOSIDO&quot;</td><td>6</td><td>&quot;ADENOCARCINOMA GLEASON 8 &quot;</td><td>0</td><td>0</td></tr></tbody></table></div>"
      ],
      "text/plain": [
       "shape: (4, 11)\n",
       "┌──────┬──────────┬────────────────┬──────┬───┬───────────┬───────────────┬────────┬───────────────┐\n",
       "│ EDAD ┆ DIABETES ┆ HOSPITALIZACIÓ ┆ PSA  ┆ … ┆ NUMERO DE ┆ BIOPSIA       ┆ FIEBRE ┆ HOSPITALIZACI │\n",
       "│ ---  ┆ ---      ┆ N ULTIMO MES   ┆ ---  ┆   ┆ MUESTRAS  ┆ ---           ┆ ---    ┆ ON            │\n",
       "│ i64  ┆ i32      ┆ ---            ┆ f32  ┆   ┆ TOMADAS   ┆ str           ┆ i32    ┆ ---           │\n",
       "│      ┆          ┆ i32            ┆      ┆   ┆ ---       ┆               ┆        ┆ i32           │\n",
       "│      ┆          ┆                ┆      ┆   ┆ i64       ┆               ┆        ┆               │\n",
       "╞══════╪══════════╪════════════════╪══════╪═══╪═══════════╪═══════════════╪════════╪═══════════════╡\n",
       "│ 44   ┆ 0        ┆ 0              ┆ null ┆ … ┆ 12        ┆ NEG           ┆ 1      ┆ 1             │\n",
       "│ 57   ┆ 0        ┆ 0              ┆ null ┆ … ┆ 18        ┆ HIPERPLASIA   ┆ 0      ┆ 0             │\n",
       "│      ┆          ┆                ┆      ┆   ┆           ┆ PROSTATICA    ┆        ┆               │\n",
       "│ 60   ┆ 0        ┆ 0              ┆ null ┆ … ┆ 16        ┆ NEG           ┆ 0      ┆ 0             │\n",
       "│ 62   ┆ 0        ┆ 0              ┆ null ┆ … ┆ 6         ┆ ADENOCARCINOM ┆ 0      ┆ 0             │\n",
       "│      ┆          ┆                ┆      ┆   ┆           ┆ A GLEASON 8   ┆        ┆               │\n",
       "└──────┴──────────┴────────────────┴──────┴───┴───────────┴───────────────┴────────┴───────────────┘"
      ]
     },
     "execution_count": 33,
     "metadata": {},
     "output_type": "execute_result"
    }
   ],
   "source": [
    "mask = df['PSA'].is_null()\n",
    "df.filter(mask)"
   ]
  },
  {
   "cell_type": "markdown",
   "metadata": {},
   "source": [
    "De los registros con datos Nulos solo hay 1 cuya valor de `Hospitalizacion` es igual a 1 que es el unico dato que me interesa salvar ya que pertenece a la clase minoritaria de este dataset tan desbalanceado"
   ]
  },
  {
   "cell_type": "code",
   "execution_count": 34,
   "metadata": {},
   "outputs": [
    {
     "name": "stdout",
     "output_type": "stream",
     "text": [
      "Minimo --> 4.0\n",
      "Máximo --> 29.0\n",
      "Promedio --> 8.445769218298105\n",
      "Mediana --> 6.199999809265137\n",
      "Moda --> 7.0\n"
     ]
    },
    {
     "data": {
      "application/vnd.plotly.v1+json": {
       "config": {
        "plotlyServerURL": "https://plot.ly"
       },
       "data": [
        {
         "alignmentgroup": "True",
         "bingroup": "x",
         "hovertemplate": "PSA=%{x}<br>count=%{y}<extra></extra>",
         "legendgroup": "",
         "marker": {
          "color": "#636efa",
          "pattern": {
           "shape": ""
          }
         },
         "name": "",
         "nbinsx": 10,
         "offsetgroup": "",
         "orientation": "v",
         "showlegend": false,
         "type": "histogram",
         "x": [
          4,
          7.699999809265137,
          29,
          7,
          29,
          4,
          7,
          6.199999809265137,
          6,
          null,
          7.699999809265137,
          6.199999809265137,
          5.699999809265137,
          6,
          4.300000190734863,
          7,
          5.190000057220459,
          4.5,
          4.5,
          7,
          5.699999809265137,
          4.300000190734863,
          14,
          14,
          10.800000190734863,
          5.800000190734863,
          7
         ],
         "xaxis": "x",
         "yaxis": "y"
        }
       ],
       "layout": {
        "barmode": "relative",
        "legend": {
         "tracegroupgap": 0
        },
        "template": {
         "data": {
          "bar": [
           {
            "error_x": {
             "color": "#2a3f5f"
            },
            "error_y": {
             "color": "#2a3f5f"
            },
            "marker": {
             "line": {
              "color": "#E5ECF6",
              "width": 0.5
             },
             "pattern": {
              "fillmode": "overlay",
              "size": 10,
              "solidity": 0.2
             }
            },
            "type": "bar"
           }
          ],
          "barpolar": [
           {
            "marker": {
             "line": {
              "color": "#E5ECF6",
              "width": 0.5
             },
             "pattern": {
              "fillmode": "overlay",
              "size": 10,
              "solidity": 0.2
             }
            },
            "type": "barpolar"
           }
          ],
          "carpet": [
           {
            "aaxis": {
             "endlinecolor": "#2a3f5f",
             "gridcolor": "white",
             "linecolor": "white",
             "minorgridcolor": "white",
             "startlinecolor": "#2a3f5f"
            },
            "baxis": {
             "endlinecolor": "#2a3f5f",
             "gridcolor": "white",
             "linecolor": "white",
             "minorgridcolor": "white",
             "startlinecolor": "#2a3f5f"
            },
            "type": "carpet"
           }
          ],
          "choropleth": [
           {
            "colorbar": {
             "outlinewidth": 0,
             "ticks": ""
            },
            "type": "choropleth"
           }
          ],
          "contour": [
           {
            "colorbar": {
             "outlinewidth": 0,
             "ticks": ""
            },
            "colorscale": [
             [
              0,
              "#0d0887"
             ],
             [
              0.1111111111111111,
              "#46039f"
             ],
             [
              0.2222222222222222,
              "#7201a8"
             ],
             [
              0.3333333333333333,
              "#9c179e"
             ],
             [
              0.4444444444444444,
              "#bd3786"
             ],
             [
              0.5555555555555556,
              "#d8576b"
             ],
             [
              0.6666666666666666,
              "#ed7953"
             ],
             [
              0.7777777777777778,
              "#fb9f3a"
             ],
             [
              0.8888888888888888,
              "#fdca26"
             ],
             [
              1,
              "#f0f921"
             ]
            ],
            "type": "contour"
           }
          ],
          "contourcarpet": [
           {
            "colorbar": {
             "outlinewidth": 0,
             "ticks": ""
            },
            "type": "contourcarpet"
           }
          ],
          "heatmap": [
           {
            "colorbar": {
             "outlinewidth": 0,
             "ticks": ""
            },
            "colorscale": [
             [
              0,
              "#0d0887"
             ],
             [
              0.1111111111111111,
              "#46039f"
             ],
             [
              0.2222222222222222,
              "#7201a8"
             ],
             [
              0.3333333333333333,
              "#9c179e"
             ],
             [
              0.4444444444444444,
              "#bd3786"
             ],
             [
              0.5555555555555556,
              "#d8576b"
             ],
             [
              0.6666666666666666,
              "#ed7953"
             ],
             [
              0.7777777777777778,
              "#fb9f3a"
             ],
             [
              0.8888888888888888,
              "#fdca26"
             ],
             [
              1,
              "#f0f921"
             ]
            ],
            "type": "heatmap"
           }
          ],
          "heatmapgl": [
           {
            "colorbar": {
             "outlinewidth": 0,
             "ticks": ""
            },
            "colorscale": [
             [
              0,
              "#0d0887"
             ],
             [
              0.1111111111111111,
              "#46039f"
             ],
             [
              0.2222222222222222,
              "#7201a8"
             ],
             [
              0.3333333333333333,
              "#9c179e"
             ],
             [
              0.4444444444444444,
              "#bd3786"
             ],
             [
              0.5555555555555556,
              "#d8576b"
             ],
             [
              0.6666666666666666,
              "#ed7953"
             ],
             [
              0.7777777777777778,
              "#fb9f3a"
             ],
             [
              0.8888888888888888,
              "#fdca26"
             ],
             [
              1,
              "#f0f921"
             ]
            ],
            "type": "heatmapgl"
           }
          ],
          "histogram": [
           {
            "marker": {
             "pattern": {
              "fillmode": "overlay",
              "size": 10,
              "solidity": 0.2
             }
            },
            "type": "histogram"
           }
          ],
          "histogram2d": [
           {
            "colorbar": {
             "outlinewidth": 0,
             "ticks": ""
            },
            "colorscale": [
             [
              0,
              "#0d0887"
             ],
             [
              0.1111111111111111,
              "#46039f"
             ],
             [
              0.2222222222222222,
              "#7201a8"
             ],
             [
              0.3333333333333333,
              "#9c179e"
             ],
             [
              0.4444444444444444,
              "#bd3786"
             ],
             [
              0.5555555555555556,
              "#d8576b"
             ],
             [
              0.6666666666666666,
              "#ed7953"
             ],
             [
              0.7777777777777778,
              "#fb9f3a"
             ],
             [
              0.8888888888888888,
              "#fdca26"
             ],
             [
              1,
              "#f0f921"
             ]
            ],
            "type": "histogram2d"
           }
          ],
          "histogram2dcontour": [
           {
            "colorbar": {
             "outlinewidth": 0,
             "ticks": ""
            },
            "colorscale": [
             [
              0,
              "#0d0887"
             ],
             [
              0.1111111111111111,
              "#46039f"
             ],
             [
              0.2222222222222222,
              "#7201a8"
             ],
             [
              0.3333333333333333,
              "#9c179e"
             ],
             [
              0.4444444444444444,
              "#bd3786"
             ],
             [
              0.5555555555555556,
              "#d8576b"
             ],
             [
              0.6666666666666666,
              "#ed7953"
             ],
             [
              0.7777777777777778,
              "#fb9f3a"
             ],
             [
              0.8888888888888888,
              "#fdca26"
             ],
             [
              1,
              "#f0f921"
             ]
            ],
            "type": "histogram2dcontour"
           }
          ],
          "mesh3d": [
           {
            "colorbar": {
             "outlinewidth": 0,
             "ticks": ""
            },
            "type": "mesh3d"
           }
          ],
          "parcoords": [
           {
            "line": {
             "colorbar": {
              "outlinewidth": 0,
              "ticks": ""
             }
            },
            "type": "parcoords"
           }
          ],
          "pie": [
           {
            "automargin": true,
            "type": "pie"
           }
          ],
          "scatter": [
           {
            "fillpattern": {
             "fillmode": "overlay",
             "size": 10,
             "solidity": 0.2
            },
            "type": "scatter"
           }
          ],
          "scatter3d": [
           {
            "line": {
             "colorbar": {
              "outlinewidth": 0,
              "ticks": ""
             }
            },
            "marker": {
             "colorbar": {
              "outlinewidth": 0,
              "ticks": ""
             }
            },
            "type": "scatter3d"
           }
          ],
          "scattercarpet": [
           {
            "marker": {
             "colorbar": {
              "outlinewidth": 0,
              "ticks": ""
             }
            },
            "type": "scattercarpet"
           }
          ],
          "scattergeo": [
           {
            "marker": {
             "colorbar": {
              "outlinewidth": 0,
              "ticks": ""
             }
            },
            "type": "scattergeo"
           }
          ],
          "scattergl": [
           {
            "marker": {
             "colorbar": {
              "outlinewidth": 0,
              "ticks": ""
             }
            },
            "type": "scattergl"
           }
          ],
          "scattermapbox": [
           {
            "marker": {
             "colorbar": {
              "outlinewidth": 0,
              "ticks": ""
             }
            },
            "type": "scattermapbox"
           }
          ],
          "scatterpolar": [
           {
            "marker": {
             "colorbar": {
              "outlinewidth": 0,
              "ticks": ""
             }
            },
            "type": "scatterpolar"
           }
          ],
          "scatterpolargl": [
           {
            "marker": {
             "colorbar": {
              "outlinewidth": 0,
              "ticks": ""
             }
            },
            "type": "scatterpolargl"
           }
          ],
          "scatterternary": [
           {
            "marker": {
             "colorbar": {
              "outlinewidth": 0,
              "ticks": ""
             }
            },
            "type": "scatterternary"
           }
          ],
          "surface": [
           {
            "colorbar": {
             "outlinewidth": 0,
             "ticks": ""
            },
            "colorscale": [
             [
              0,
              "#0d0887"
             ],
             [
              0.1111111111111111,
              "#46039f"
             ],
             [
              0.2222222222222222,
              "#7201a8"
             ],
             [
              0.3333333333333333,
              "#9c179e"
             ],
             [
              0.4444444444444444,
              "#bd3786"
             ],
             [
              0.5555555555555556,
              "#d8576b"
             ],
             [
              0.6666666666666666,
              "#ed7953"
             ],
             [
              0.7777777777777778,
              "#fb9f3a"
             ],
             [
              0.8888888888888888,
              "#fdca26"
             ],
             [
              1,
              "#f0f921"
             ]
            ],
            "type": "surface"
           }
          ],
          "table": [
           {
            "cells": {
             "fill": {
              "color": "#EBF0F8"
             },
             "line": {
              "color": "white"
             }
            },
            "header": {
             "fill": {
              "color": "#C8D4E3"
             },
             "line": {
              "color": "white"
             }
            },
            "type": "table"
           }
          ]
         },
         "layout": {
          "annotationdefaults": {
           "arrowcolor": "#2a3f5f",
           "arrowhead": 0,
           "arrowwidth": 1
          },
          "autotypenumbers": "strict",
          "coloraxis": {
           "colorbar": {
            "outlinewidth": 0,
            "ticks": ""
           }
          },
          "colorscale": {
           "diverging": [
            [
             0,
             "#8e0152"
            ],
            [
             0.1,
             "#c51b7d"
            ],
            [
             0.2,
             "#de77ae"
            ],
            [
             0.3,
             "#f1b6da"
            ],
            [
             0.4,
             "#fde0ef"
            ],
            [
             0.5,
             "#f7f7f7"
            ],
            [
             0.6,
             "#e6f5d0"
            ],
            [
             0.7,
             "#b8e186"
            ],
            [
             0.8,
             "#7fbc41"
            ],
            [
             0.9,
             "#4d9221"
            ],
            [
             1,
             "#276419"
            ]
           ],
           "sequential": [
            [
             0,
             "#0d0887"
            ],
            [
             0.1111111111111111,
             "#46039f"
            ],
            [
             0.2222222222222222,
             "#7201a8"
            ],
            [
             0.3333333333333333,
             "#9c179e"
            ],
            [
             0.4444444444444444,
             "#bd3786"
            ],
            [
             0.5555555555555556,
             "#d8576b"
            ],
            [
             0.6666666666666666,
             "#ed7953"
            ],
            [
             0.7777777777777778,
             "#fb9f3a"
            ],
            [
             0.8888888888888888,
             "#fdca26"
            ],
            [
             1,
             "#f0f921"
            ]
           ],
           "sequentialminus": [
            [
             0,
             "#0d0887"
            ],
            [
             0.1111111111111111,
             "#46039f"
            ],
            [
             0.2222222222222222,
             "#7201a8"
            ],
            [
             0.3333333333333333,
             "#9c179e"
            ],
            [
             0.4444444444444444,
             "#bd3786"
            ],
            [
             0.5555555555555556,
             "#d8576b"
            ],
            [
             0.6666666666666666,
             "#ed7953"
            ],
            [
             0.7777777777777778,
             "#fb9f3a"
            ],
            [
             0.8888888888888888,
             "#fdca26"
            ],
            [
             1,
             "#f0f921"
            ]
           ]
          },
          "colorway": [
           "#636efa",
           "#EF553B",
           "#00cc96",
           "#ab63fa",
           "#FFA15A",
           "#19d3f3",
           "#FF6692",
           "#B6E880",
           "#FF97FF",
           "#FECB52"
          ],
          "font": {
           "color": "#2a3f5f"
          },
          "geo": {
           "bgcolor": "white",
           "lakecolor": "white",
           "landcolor": "#E5ECF6",
           "showlakes": true,
           "showland": true,
           "subunitcolor": "white"
          },
          "hoverlabel": {
           "align": "left"
          },
          "hovermode": "closest",
          "mapbox": {
           "style": "light"
          },
          "paper_bgcolor": "white",
          "plot_bgcolor": "#E5ECF6",
          "polar": {
           "angularaxis": {
            "gridcolor": "white",
            "linecolor": "white",
            "ticks": ""
           },
           "bgcolor": "#E5ECF6",
           "radialaxis": {
            "gridcolor": "white",
            "linecolor": "white",
            "ticks": ""
           }
          },
          "scene": {
           "xaxis": {
            "backgroundcolor": "#E5ECF6",
            "gridcolor": "white",
            "gridwidth": 2,
            "linecolor": "white",
            "showbackground": true,
            "ticks": "",
            "zerolinecolor": "white"
           },
           "yaxis": {
            "backgroundcolor": "#E5ECF6",
            "gridcolor": "white",
            "gridwidth": 2,
            "linecolor": "white",
            "showbackground": true,
            "ticks": "",
            "zerolinecolor": "white"
           },
           "zaxis": {
            "backgroundcolor": "#E5ECF6",
            "gridcolor": "white",
            "gridwidth": 2,
            "linecolor": "white",
            "showbackground": true,
            "ticks": "",
            "zerolinecolor": "white"
           }
          },
          "shapedefaults": {
           "line": {
            "color": "#2a3f5f"
           }
          },
          "ternary": {
           "aaxis": {
            "gridcolor": "white",
            "linecolor": "white",
            "ticks": ""
           },
           "baxis": {
            "gridcolor": "white",
            "linecolor": "white",
            "ticks": ""
           },
           "bgcolor": "#E5ECF6",
           "caxis": {
            "gridcolor": "white",
            "linecolor": "white",
            "ticks": ""
           }
          },
          "title": {
           "x": 0.05
          },
          "xaxis": {
           "automargin": true,
           "gridcolor": "white",
           "linecolor": "white",
           "ticks": "",
           "title": {
            "standoff": 15
           },
           "zerolinecolor": "white",
           "zerolinewidth": 2
          },
          "yaxis": {
           "automargin": true,
           "gridcolor": "white",
           "linecolor": "white",
           "ticks": "",
           "title": {
            "standoff": 15
           },
           "zerolinecolor": "white",
           "zerolinewidth": 2
          }
         }
        },
        "title": {
         "text": "Distribución de valores"
        },
        "xaxis": {
         "anchor": "y",
         "domain": [
          0,
          1
         ],
         "title": {
          "text": "PSA"
         }
        },
        "yaxis": {
         "anchor": "x",
         "domain": [
          0,
          1
         ],
         "title": {
          "text": "count"
         }
        }
       }
      }
     },
     "metadata": {},
     "output_type": "display_data"
    }
   ],
   "source": [
    "\n",
    "mask = df['HOSPITALIZACION'] == 1\n",
    "print(f'Minimo --> {df.filter(mask)[\"PSA\"].min()}')\n",
    "print(f'Máximo --> {df.filter(mask)[\"PSA\"].max()}')\n",
    "print(f'Promedio --> {df.filter(mask)[\"PSA\"].mean()}')\n",
    "print(f'Mediana --> {df.filter(mask)[\"PSA\"].median()}')\n",
    "print(f'Moda --> {df.filter(mask)[\"PSA\"].mode()[0]}')\n",
    "\n",
    "fig = px.histogram(df.filter(mask), x=\"PSA\", nbins=10, title=\"Distribución de valores\")\n",
    "fig.show()"
   ]
  },
  {
   "cell_type": "markdown",
   "metadata": {},
   "source": [
    "Cuando el PSA sobrepasa el valor de 4 ya se considera alto.. Al Tener las 3 medidas de Tendencia central tan cercanas y dentro del rango 5 - 10 donde se encuentra la Mayoria de los valores, tomaré un promedio de esas 3 medidas.  Las otras 2 opciones serian realizar un modelo de regresion lineal solo para calcular el PSA faltante dentro de los 27 datos cuya Hospitalizacion es si, o eliminar ese dato debido a que es uno solo"
   ]
  },
  {
   "cell_type": "code",
   "execution_count": null,
   "metadata": {},
   "outputs": [],
   "source": [
    "# Debido a que probe mas adelante el modelo tanto con los 27 Datos de Hospitalizacion == 1 como\n",
    "# con 26 Registros eliminando el registro con informacion Nula en el campo PSA y me dio una mejor\n",
    "# Generalizacion eliminando dicho registro este paso lo voy a obviar.  \n",
    "# Lo que recomendaria es aplicar ambos casos y ver como se comporta el modelo mejor\n",
    "\n",
    "promedio = round(((df.filter(mask)[\"PSA\"].mean() + df.filter(mask)[\"PSA\"].median() + df.filter(mask)[\"PSA\"].mode()[0])/3),1)\n",
    "\n",
    "df = df.with_columns(\n",
    "    pl.when(pl.col('PSA').is_null()).then(pl.lit(promedio)).otherwise(pl.col('PSA')).alias('PSA')\n",
    ")\n",
    "\n",
    "# Una vez que reemplazo el valor de PSA en el registro cuyo valor de HOSPITALIZACION == 1,  \n",
    "# entonces si puedo borrar los otros 3 registros\n"
   ]
  },
  {
   "cell_type": "code",
   "execution_count": 35,
   "metadata": {},
   "outputs": [],
   "source": [
    "df = df.drop_nulls()"
   ]
  },
  {
   "cell_type": "code",
   "execution_count": 36,
   "metadata": {},
   "outputs": [],
   "source": [
    "categorical_columns = ['DIABETES', 'HOSPITALIZACIÓN ULTIMO MES',\n",
    "       'BIOPSIAS PREVIAS', 'VOLUMEN PROSTATICO', 'BIOPSIA',\n",
    "       'ANTIBIOTICO UTILIAZADO EN LA PROFILAXIS', 'FIEBRE',\n",
    "       'HOSPITALIZACION']\n",
    "\n",
    "numerical_columns = ['EDAD', 'PSA', 'NUMERO DE MUESTRAS TOMADAS']"
   ]
  },
  {
   "cell_type": "markdown",
   "metadata": {},
   "source": [
    "Grafico de Columnas de las Variables Categoricas"
   ]
  },
  {
   "cell_type": "code",
   "execution_count": 37,
   "metadata": {},
   "outputs": [
    {
     "data": {
      "application/vnd.plotly.v1+json": {
       "config": {
        "plotlyServerURL": "https://plot.ly"
       },
       "data": [
        {
         "name": "DIABETES",
         "type": "bar",
         "x": [
          0,
          1
         ],
         "xaxis": "x",
         "y": [
          62,
          500
         ],
         "yaxis": "y"
        },
        {
         "name": "HOSPITALIZACIÓN ULTIMO MES",
         "type": "bar",
         "x": [
          0,
          1
         ],
         "xaxis": "x2",
         "y": [
          5,
          557
         ],
         "yaxis": "y2"
        },
        {
         "name": "BIOPSIAS PREVIAS",
         "type": "bar",
         "x": [
          0,
          1
         ],
         "xaxis": "x3",
         "y": [
          57,
          505
         ],
         "yaxis": "y3"
        },
        {
         "name": "VOLUMEN PROSTATICO",
         "type": "bar",
         "x": [
          0,
          1
         ],
         "xaxis": "x4",
         "y": [
          406,
          156
         ],
         "yaxis": "y4"
        },
        {
         "name": "BIOPSIA",
         "type": "bar",
         "x": [
          "ADENOCARCINOMA GLEASON 7 ",
          "HIPERPLASIA PROSTATICA",
          "CARCINOMA INDIFERENCIADO DE CELULAS CLARAS",
          "ADENOCARCINOMA GLEASON 6 ",
          "ADENOCARCINOMA GLEASON 7",
          "ADENOCARCINOMA GLEASON 6",
          "ADENOCARCINOMA GLEASON 9 ",
          "ADENOCARCINOMA GLEASON 8 ",
          "PROSTATITIS",
          "ADENOCARCINOMA GLEASON 10 ",
          "NEG"
         ],
         "xaxis": "x5",
         "y": [
          20,
          16,
          106,
          21,
          2,
          10,
          13,
          4,
          318,
          14,
          38
         ],
         "yaxis": "y5"
        },
        {
         "name": "ANTIBIOTICO UTILIAZADO EN LA PROFILAXIS",
         "type": "bar",
         "x": [
          "OTROS",
          "FLUOROQUINOLONA_AMINOGLICOSIDO",
          "CEFALOSPORINA_AMINOGLUCOCIDO",
          "FLUOROQUINOLONA_AMINOGLICÓSIDO",
          "OROQUINOLONAS"
         ],
         "xaxis": "x6",
         "y": [
          18,
          41,
          56,
          4,
          443
         ],
         "yaxis": "y6"
        },
        {
         "name": "FIEBRE",
         "type": "bar",
         "x": [
          0,
          1
         ],
         "xaxis": "x7",
         "y": [
          526,
          36
         ],
         "yaxis": "y7"
        },
        {
         "name": "HOSPITALIZACION",
         "type": "bar",
         "x": [
          0,
          1
         ],
         "xaxis": "x8",
         "y": [
          536,
          26
         ],
         "yaxis": "y8"
        }
       ],
       "layout": {
        "annotations": [
         {
          "font": {
           "size": 16
          },
          "showarrow": false,
          "text": "DIABETES",
          "x": 0.225,
          "xanchor": "center",
          "xref": "paper",
          "y": 1,
          "yanchor": "bottom",
          "yref": "paper"
         },
         {
          "font": {
           "size": 16
          },
          "showarrow": false,
          "text": "HOSPITALIZACIÓN ULTIMO MES",
          "x": 0.775,
          "xanchor": "center",
          "xref": "paper",
          "y": 1,
          "yanchor": "bottom",
          "yref": "paper"
         },
         {
          "font": {
           "size": 16
          },
          "showarrow": false,
          "text": "BIOPSIAS PREVIAS",
          "x": 0.225,
          "xanchor": "center",
          "xref": "paper",
          "y": 0.78,
          "yanchor": "bottom",
          "yref": "paper"
         },
         {
          "font": {
           "size": 16
          },
          "showarrow": false,
          "text": "VOLUMEN PROSTATICO",
          "x": 0.775,
          "xanchor": "center",
          "xref": "paper",
          "y": 0.78,
          "yanchor": "bottom",
          "yref": "paper"
         },
         {
          "font": {
           "size": 16
          },
          "showarrow": false,
          "text": "BIOPSIA",
          "x": 0.225,
          "xanchor": "center",
          "xref": "paper",
          "y": 0.56,
          "yanchor": "bottom",
          "yref": "paper"
         },
         {
          "font": {
           "size": 16
          },
          "showarrow": false,
          "text": "ANTIBIOTICO UTILIAZADO EN LA PROFILAXIS",
          "x": 0.775,
          "xanchor": "center",
          "xref": "paper",
          "y": 0.56,
          "yanchor": "bottom",
          "yref": "paper"
         },
         {
          "font": {
           "size": 16
          },
          "showarrow": false,
          "text": "FIEBRE",
          "x": 0.225,
          "xanchor": "center",
          "xref": "paper",
          "y": 0.33999999999999997,
          "yanchor": "bottom",
          "yref": "paper"
         },
         {
          "font": {
           "size": 16
          },
          "showarrow": false,
          "text": "HOSPITALIZACION",
          "x": 0.775,
          "xanchor": "center",
          "xref": "paper",
          "y": 0.33999999999999997,
          "yanchor": "bottom",
          "yref": "paper"
         }
        ],
        "height": 1800,
        "template": {
         "data": {
          "bar": [
           {
            "error_x": {
             "color": "#2a3f5f"
            },
            "error_y": {
             "color": "#2a3f5f"
            },
            "marker": {
             "line": {
              "color": "#E5ECF6",
              "width": 0.5
             },
             "pattern": {
              "fillmode": "overlay",
              "size": 10,
              "solidity": 0.2
             }
            },
            "type": "bar"
           }
          ],
          "barpolar": [
           {
            "marker": {
             "line": {
              "color": "#E5ECF6",
              "width": 0.5
             },
             "pattern": {
              "fillmode": "overlay",
              "size": 10,
              "solidity": 0.2
             }
            },
            "type": "barpolar"
           }
          ],
          "carpet": [
           {
            "aaxis": {
             "endlinecolor": "#2a3f5f",
             "gridcolor": "white",
             "linecolor": "white",
             "minorgridcolor": "white",
             "startlinecolor": "#2a3f5f"
            },
            "baxis": {
             "endlinecolor": "#2a3f5f",
             "gridcolor": "white",
             "linecolor": "white",
             "minorgridcolor": "white",
             "startlinecolor": "#2a3f5f"
            },
            "type": "carpet"
           }
          ],
          "choropleth": [
           {
            "colorbar": {
             "outlinewidth": 0,
             "ticks": ""
            },
            "type": "choropleth"
           }
          ],
          "contour": [
           {
            "colorbar": {
             "outlinewidth": 0,
             "ticks": ""
            },
            "colorscale": [
             [
              0,
              "#0d0887"
             ],
             [
              0.1111111111111111,
              "#46039f"
             ],
             [
              0.2222222222222222,
              "#7201a8"
             ],
             [
              0.3333333333333333,
              "#9c179e"
             ],
             [
              0.4444444444444444,
              "#bd3786"
             ],
             [
              0.5555555555555556,
              "#d8576b"
             ],
             [
              0.6666666666666666,
              "#ed7953"
             ],
             [
              0.7777777777777778,
              "#fb9f3a"
             ],
             [
              0.8888888888888888,
              "#fdca26"
             ],
             [
              1,
              "#f0f921"
             ]
            ],
            "type": "contour"
           }
          ],
          "contourcarpet": [
           {
            "colorbar": {
             "outlinewidth": 0,
             "ticks": ""
            },
            "type": "contourcarpet"
           }
          ],
          "heatmap": [
           {
            "colorbar": {
             "outlinewidth": 0,
             "ticks": ""
            },
            "colorscale": [
             [
              0,
              "#0d0887"
             ],
             [
              0.1111111111111111,
              "#46039f"
             ],
             [
              0.2222222222222222,
              "#7201a8"
             ],
             [
              0.3333333333333333,
              "#9c179e"
             ],
             [
              0.4444444444444444,
              "#bd3786"
             ],
             [
              0.5555555555555556,
              "#d8576b"
             ],
             [
              0.6666666666666666,
              "#ed7953"
             ],
             [
              0.7777777777777778,
              "#fb9f3a"
             ],
             [
              0.8888888888888888,
              "#fdca26"
             ],
             [
              1,
              "#f0f921"
             ]
            ],
            "type": "heatmap"
           }
          ],
          "heatmapgl": [
           {
            "colorbar": {
             "outlinewidth": 0,
             "ticks": ""
            },
            "colorscale": [
             [
              0,
              "#0d0887"
             ],
             [
              0.1111111111111111,
              "#46039f"
             ],
             [
              0.2222222222222222,
              "#7201a8"
             ],
             [
              0.3333333333333333,
              "#9c179e"
             ],
             [
              0.4444444444444444,
              "#bd3786"
             ],
             [
              0.5555555555555556,
              "#d8576b"
             ],
             [
              0.6666666666666666,
              "#ed7953"
             ],
             [
              0.7777777777777778,
              "#fb9f3a"
             ],
             [
              0.8888888888888888,
              "#fdca26"
             ],
             [
              1,
              "#f0f921"
             ]
            ],
            "type": "heatmapgl"
           }
          ],
          "histogram": [
           {
            "marker": {
             "pattern": {
              "fillmode": "overlay",
              "size": 10,
              "solidity": 0.2
             }
            },
            "type": "histogram"
           }
          ],
          "histogram2d": [
           {
            "colorbar": {
             "outlinewidth": 0,
             "ticks": ""
            },
            "colorscale": [
             [
              0,
              "#0d0887"
             ],
             [
              0.1111111111111111,
              "#46039f"
             ],
             [
              0.2222222222222222,
              "#7201a8"
             ],
             [
              0.3333333333333333,
              "#9c179e"
             ],
             [
              0.4444444444444444,
              "#bd3786"
             ],
             [
              0.5555555555555556,
              "#d8576b"
             ],
             [
              0.6666666666666666,
              "#ed7953"
             ],
             [
              0.7777777777777778,
              "#fb9f3a"
             ],
             [
              0.8888888888888888,
              "#fdca26"
             ],
             [
              1,
              "#f0f921"
             ]
            ],
            "type": "histogram2d"
           }
          ],
          "histogram2dcontour": [
           {
            "colorbar": {
             "outlinewidth": 0,
             "ticks": ""
            },
            "colorscale": [
             [
              0,
              "#0d0887"
             ],
             [
              0.1111111111111111,
              "#46039f"
             ],
             [
              0.2222222222222222,
              "#7201a8"
             ],
             [
              0.3333333333333333,
              "#9c179e"
             ],
             [
              0.4444444444444444,
              "#bd3786"
             ],
             [
              0.5555555555555556,
              "#d8576b"
             ],
             [
              0.6666666666666666,
              "#ed7953"
             ],
             [
              0.7777777777777778,
              "#fb9f3a"
             ],
             [
              0.8888888888888888,
              "#fdca26"
             ],
             [
              1,
              "#f0f921"
             ]
            ],
            "type": "histogram2dcontour"
           }
          ],
          "mesh3d": [
           {
            "colorbar": {
             "outlinewidth": 0,
             "ticks": ""
            },
            "type": "mesh3d"
           }
          ],
          "parcoords": [
           {
            "line": {
             "colorbar": {
              "outlinewidth": 0,
              "ticks": ""
             }
            },
            "type": "parcoords"
           }
          ],
          "pie": [
           {
            "automargin": true,
            "type": "pie"
           }
          ],
          "scatter": [
           {
            "fillpattern": {
             "fillmode": "overlay",
             "size": 10,
             "solidity": 0.2
            },
            "type": "scatter"
           }
          ],
          "scatter3d": [
           {
            "line": {
             "colorbar": {
              "outlinewidth": 0,
              "ticks": ""
             }
            },
            "marker": {
             "colorbar": {
              "outlinewidth": 0,
              "ticks": ""
             }
            },
            "type": "scatter3d"
           }
          ],
          "scattercarpet": [
           {
            "marker": {
             "colorbar": {
              "outlinewidth": 0,
              "ticks": ""
             }
            },
            "type": "scattercarpet"
           }
          ],
          "scattergeo": [
           {
            "marker": {
             "colorbar": {
              "outlinewidth": 0,
              "ticks": ""
             }
            },
            "type": "scattergeo"
           }
          ],
          "scattergl": [
           {
            "marker": {
             "colorbar": {
              "outlinewidth": 0,
              "ticks": ""
             }
            },
            "type": "scattergl"
           }
          ],
          "scattermapbox": [
           {
            "marker": {
             "colorbar": {
              "outlinewidth": 0,
              "ticks": ""
             }
            },
            "type": "scattermapbox"
           }
          ],
          "scatterpolar": [
           {
            "marker": {
             "colorbar": {
              "outlinewidth": 0,
              "ticks": ""
             }
            },
            "type": "scatterpolar"
           }
          ],
          "scatterpolargl": [
           {
            "marker": {
             "colorbar": {
              "outlinewidth": 0,
              "ticks": ""
             }
            },
            "type": "scatterpolargl"
           }
          ],
          "scatterternary": [
           {
            "marker": {
             "colorbar": {
              "outlinewidth": 0,
              "ticks": ""
             }
            },
            "type": "scatterternary"
           }
          ],
          "surface": [
           {
            "colorbar": {
             "outlinewidth": 0,
             "ticks": ""
            },
            "colorscale": [
             [
              0,
              "#0d0887"
             ],
             [
              0.1111111111111111,
              "#46039f"
             ],
             [
              0.2222222222222222,
              "#7201a8"
             ],
             [
              0.3333333333333333,
              "#9c179e"
             ],
             [
              0.4444444444444444,
              "#bd3786"
             ],
             [
              0.5555555555555556,
              "#d8576b"
             ],
             [
              0.6666666666666666,
              "#ed7953"
             ],
             [
              0.7777777777777778,
              "#fb9f3a"
             ],
             [
              0.8888888888888888,
              "#fdca26"
             ],
             [
              1,
              "#f0f921"
             ]
            ],
            "type": "surface"
           }
          ],
          "table": [
           {
            "cells": {
             "fill": {
              "color": "#EBF0F8"
             },
             "line": {
              "color": "white"
             }
            },
            "header": {
             "fill": {
              "color": "#C8D4E3"
             },
             "line": {
              "color": "white"
             }
            },
            "type": "table"
           }
          ]
         },
         "layout": {
          "annotationdefaults": {
           "arrowcolor": "#2a3f5f",
           "arrowhead": 0,
           "arrowwidth": 1
          },
          "autotypenumbers": "strict",
          "coloraxis": {
           "colorbar": {
            "outlinewidth": 0,
            "ticks": ""
           }
          },
          "colorscale": {
           "diverging": [
            [
             0,
             "#8e0152"
            ],
            [
             0.1,
             "#c51b7d"
            ],
            [
             0.2,
             "#de77ae"
            ],
            [
             0.3,
             "#f1b6da"
            ],
            [
             0.4,
             "#fde0ef"
            ],
            [
             0.5,
             "#f7f7f7"
            ],
            [
             0.6,
             "#e6f5d0"
            ],
            [
             0.7,
             "#b8e186"
            ],
            [
             0.8,
             "#7fbc41"
            ],
            [
             0.9,
             "#4d9221"
            ],
            [
             1,
             "#276419"
            ]
           ],
           "sequential": [
            [
             0,
             "#0d0887"
            ],
            [
             0.1111111111111111,
             "#46039f"
            ],
            [
             0.2222222222222222,
             "#7201a8"
            ],
            [
             0.3333333333333333,
             "#9c179e"
            ],
            [
             0.4444444444444444,
             "#bd3786"
            ],
            [
             0.5555555555555556,
             "#d8576b"
            ],
            [
             0.6666666666666666,
             "#ed7953"
            ],
            [
             0.7777777777777778,
             "#fb9f3a"
            ],
            [
             0.8888888888888888,
             "#fdca26"
            ],
            [
             1,
             "#f0f921"
            ]
           ],
           "sequentialminus": [
            [
             0,
             "#0d0887"
            ],
            [
             0.1111111111111111,
             "#46039f"
            ],
            [
             0.2222222222222222,
             "#7201a8"
            ],
            [
             0.3333333333333333,
             "#9c179e"
            ],
            [
             0.4444444444444444,
             "#bd3786"
            ],
            [
             0.5555555555555556,
             "#d8576b"
            ],
            [
             0.6666666666666666,
             "#ed7953"
            ],
            [
             0.7777777777777778,
             "#fb9f3a"
            ],
            [
             0.8888888888888888,
             "#fdca26"
            ],
            [
             1,
             "#f0f921"
            ]
           ]
          },
          "colorway": [
           "#636efa",
           "#EF553B",
           "#00cc96",
           "#ab63fa",
           "#FFA15A",
           "#19d3f3",
           "#FF6692",
           "#B6E880",
           "#FF97FF",
           "#FECB52"
          ],
          "font": {
           "color": "#2a3f5f"
          },
          "geo": {
           "bgcolor": "white",
           "lakecolor": "white",
           "landcolor": "#E5ECF6",
           "showlakes": true,
           "showland": true,
           "subunitcolor": "white"
          },
          "hoverlabel": {
           "align": "left"
          },
          "hovermode": "closest",
          "mapbox": {
           "style": "light"
          },
          "paper_bgcolor": "white",
          "plot_bgcolor": "#E5ECF6",
          "polar": {
           "angularaxis": {
            "gridcolor": "white",
            "linecolor": "white",
            "ticks": ""
           },
           "bgcolor": "#E5ECF6",
           "radialaxis": {
            "gridcolor": "white",
            "linecolor": "white",
            "ticks": ""
           }
          },
          "scene": {
           "xaxis": {
            "backgroundcolor": "#E5ECF6",
            "gridcolor": "white",
            "gridwidth": 2,
            "linecolor": "white",
            "showbackground": true,
            "ticks": "",
            "zerolinecolor": "white"
           },
           "yaxis": {
            "backgroundcolor": "#E5ECF6",
            "gridcolor": "white",
            "gridwidth": 2,
            "linecolor": "white",
            "showbackground": true,
            "ticks": "",
            "zerolinecolor": "white"
           },
           "zaxis": {
            "backgroundcolor": "#E5ECF6",
            "gridcolor": "white",
            "gridwidth": 2,
            "linecolor": "white",
            "showbackground": true,
            "ticks": "",
            "zerolinecolor": "white"
           }
          },
          "shapedefaults": {
           "line": {
            "color": "#2a3f5f"
           }
          },
          "ternary": {
           "aaxis": {
            "gridcolor": "white",
            "linecolor": "white",
            "ticks": ""
           },
           "baxis": {
            "gridcolor": "white",
            "linecolor": "white",
            "ticks": ""
           },
           "bgcolor": "#E5ECF6",
           "caxis": {
            "gridcolor": "white",
            "linecolor": "white",
            "ticks": ""
           }
          },
          "title": {
           "x": 0.05
          },
          "xaxis": {
           "automargin": true,
           "gridcolor": "white",
           "linecolor": "white",
           "ticks": "",
           "title": {
            "standoff": 15
           },
           "zerolinecolor": "white",
           "zerolinewidth": 2
          },
          "yaxis": {
           "automargin": true,
           "gridcolor": "white",
           "linecolor": "white",
           "ticks": "",
           "title": {
            "standoff": 15
           },
           "zerolinecolor": "white",
           "zerolinewidth": 2
          }
         }
        },
        "title": {
         "text": "Categorical Data Distributions"
        },
        "width": 1200,
        "xaxis": {
         "anchor": "y",
         "domain": [
          0,
          0.45
         ]
        },
        "xaxis10": {
         "anchor": "y10",
         "domain": [
          0.55,
          1
         ]
        },
        "xaxis2": {
         "anchor": "y2",
         "domain": [
          0.55,
          1
         ]
        },
        "xaxis3": {
         "anchor": "y3",
         "domain": [
          0,
          0.45
         ]
        },
        "xaxis4": {
         "anchor": "y4",
         "domain": [
          0.55,
          1
         ]
        },
        "xaxis5": {
         "anchor": "y5",
         "domain": [
          0,
          0.45
         ]
        },
        "xaxis6": {
         "anchor": "y6",
         "domain": [
          0.55,
          1
         ]
        },
        "xaxis7": {
         "anchor": "y7",
         "domain": [
          0,
          0.45
         ]
        },
        "xaxis8": {
         "anchor": "y8",
         "domain": [
          0.55,
          1
         ]
        },
        "xaxis9": {
         "anchor": "y9",
         "domain": [
          0,
          0.45
         ]
        },
        "yaxis": {
         "anchor": "x",
         "domain": [
          0.88,
          1
         ]
        },
        "yaxis10": {
         "anchor": "x10",
         "domain": [
          0,
          0.12
         ]
        },
        "yaxis2": {
         "anchor": "x2",
         "domain": [
          0.88,
          1
         ]
        },
        "yaxis3": {
         "anchor": "x3",
         "domain": [
          0.66,
          0.78
         ]
        },
        "yaxis4": {
         "anchor": "x4",
         "domain": [
          0.66,
          0.78
         ]
        },
        "yaxis5": {
         "anchor": "x5",
         "domain": [
          0.44,
          0.56
         ]
        },
        "yaxis6": {
         "anchor": "x6",
         "domain": [
          0.44,
          0.56
         ]
        },
        "yaxis7": {
         "anchor": "x7",
         "domain": [
          0.22,
          0.33999999999999997
         ]
        },
        "yaxis8": {
         "anchor": "x8",
         "domain": [
          0.22,
          0.33999999999999997
         ]
        },
        "yaxis9": {
         "anchor": "x9",
         "domain": [
          0,
          0.12
         ]
        }
       }
      }
     },
     "metadata": {},
     "output_type": "display_data"
    }
   ],
   "source": [
    "fig = make_subplots(rows=5, cols=2, subplot_titles=categorical_columns)\n",
    "\n",
    "for i,column in enumerate(categorical_columns):\n",
    "    data = df[column]\n",
    "    x = data.unique()\n",
    "    y = data.value_counts()[:,1]\n",
    "    row = i // 2 + 1\n",
    "    col = i % 2 + 1\n",
    "    fig.add_trace(go.Bar(x=x, y=y, name=column), row=row, col=col)\n",
    "\n",
    "fig.update_layout(height=1800, width=1200, title_text=\"Categorical Data Distributions\")\n",
    "\n"
   ]
  },
  {
   "cell_type": "markdown",
   "metadata": {},
   "source": [
    "***\n",
    "Categorias Numericas"
   ]
  },
  {
   "cell_type": "code",
   "execution_count": 38,
   "metadata": {},
   "outputs": [],
   "source": [
    "df_numerical_columns = df[numerical_columns]"
   ]
  },
  {
   "cell_type": "code",
   "execution_count": 39,
   "metadata": {},
   "outputs": [
    {
     "data": {
      "application/vnd.plotly.v1+json": {
       "config": {
        "plotlyServerURL": "https://plot.ly"
       },
       "data": [
        {
         "name": "EDAD",
         "type": "box",
         "xaxis": "x",
         "y": [
          53,
          56,
          57,
          56,
          55,
          55,
          53,
          67,
          69,
          54,
          68,
          69,
          43,
          65,
          62,
          65,
          71,
          65,
          62,
          64,
          71,
          69,
          69,
          77,
          75,
          75,
          77,
          75,
          77,
          73,
          63,
          73,
          63,
          53,
          75,
          62,
          69,
          71,
          66,
          53,
          75,
          62,
          69,
          71,
          66,
          84,
          68,
          84,
          68,
          64,
          62,
          64,
          62,
          64,
          42,
          42,
          68,
          61,
          47,
          47,
          48,
          49,
          65,
          81,
          52,
          61,
          52,
          52,
          53,
          68,
          53,
          63,
          69,
          54,
          74,
          54,
          55,
          56,
          70,
          56,
          68,
          57,
          70,
          57,
          52,
          58,
          64,
          56,
          58,
          58,
          58,
          56,
          58,
          64,
          59,
          71,
          60,
          70,
          74,
          62,
          63,
          59,
          60,
          65,
          61,
          61,
          61,
          68,
          68,
          61,
          61,
          64,
          56,
          55,
          62,
          62,
          62,
          62,
          68,
          54,
          63,
          58,
          74,
          63,
          69,
          63,
          63,
          63,
          63,
          63,
          64,
          61,
          64,
          64,
          64,
          71,
          64,
          64,
          75,
          64,
          50,
          61,
          58,
          65,
          59,
          66,
          66,
          66,
          66,
          54,
          66,
          58,
          66,
          69,
          74,
          42,
          58,
          67,
          65,
          50,
          65,
          68,
          68,
          70,
          68,
          69,
          69,
          61,
          66,
          69,
          69,
          69,
          64,
          69,
          69,
          69,
          70,
          64,
          70,
          76,
          63,
          78,
          46,
          71,
          71,
          71,
          71,
          55,
          71,
          71,
          71,
          61,
          53,
          65,
          73,
          54,
          73,
          73,
          68,
          73,
          73,
          58,
          81,
          74,
          74,
          51,
          63,
          75,
          75,
          76,
          64,
          62,
          78,
          79,
          79,
          57,
          81,
          81,
          39,
          47,
          67,
          62,
          63,
          60,
          69,
          59,
          71,
          54,
          60,
          55,
          60,
          72,
          56,
          60,
          70,
          63,
          57,
          59,
          57,
          58,
          58,
          58,
          57,
          59,
          62,
          59,
          59,
          67,
          60,
          60,
          60,
          55,
          63,
          52,
          69,
          69,
          62,
          57,
          62,
          69,
          60,
          51,
          67,
          54,
          51,
          73,
          63,
          68,
          80,
          66,
          61,
          65,
          65,
          65,
          67,
          66,
          57,
          61,
          68,
          66,
          66,
          67,
          67,
          67,
          67,
          67,
          53,
          66,
          68,
          66,
          71,
          59,
          67,
          69,
          59,
          59,
          70,
          57,
          75,
          78,
          67,
          64,
          63,
          42,
          42,
          69,
          61,
          46,
          49,
          48,
          45,
          66,
          82,
          53,
          60,
          52,
          52,
          53,
          67,
          53,
          64,
          69,
          55,
          75,
          55,
          54,
          55,
          59,
          70,
          56,
          68,
          57,
          71,
          57,
          52,
          59,
          64,
          55,
          58,
          59,
          58,
          56,
          58,
          65,
          69,
          59,
          71,
          60,
          71,
          74,
          62,
          63,
          60,
          59,
          62,
          65,
          60,
          61,
          61,
          68,
          67,
          61,
          61,
          64,
          56,
          58,
          62,
          62,
          68,
          62,
          62,
          68,
          51,
          63,
          58,
          77,
          63,
          69,
          68,
          63,
          63,
          63,
          61,
          64,
          61,
          64,
          64,
          64,
          71,
          64,
          64,
          74,
          63,
          51,
          61,
          58,
          65,
          59,
          68,
          66,
          66,
          66,
          54,
          66,
          58,
          66,
          69,
          74,
          42,
          58,
          63,
          67,
          67,
          65,
          50,
          65,
          68,
          68,
          70,
          68,
          59,
          69,
          68,
          61,
          66,
          69,
          69,
          69,
          66,
          69,
          69,
          69,
          61,
          72,
          64,
          70,
          78,
          63,
          79,
          45,
          71,
          71,
          71,
          71,
          55,
          71,
          71,
          72,
          61,
          53,
          65,
          73,
          54,
          73,
          73,
          68,
          73,
          73,
          58,
          81,
          74,
          74,
          51,
          63,
          77,
          75,
          76,
          64,
          62,
          78,
          79,
          81,
          57,
          81,
          82,
          39,
          47,
          67,
          62,
          63,
          62,
          69,
          59,
          71,
          49,
          60,
          55,
          60,
          72,
          56,
          60,
          70,
          63,
          57,
          59,
          59,
          58,
          58,
          58,
          57,
          59,
          62,
          59,
          59,
          67,
          60,
          60,
          60,
          56,
          63,
          52,
          69,
          68,
          62,
          57,
          64,
          69,
          62,
          50,
          67,
          54,
          50,
          73,
          63,
          68,
          84,
          66,
          61,
          65,
          65,
          65,
          67,
          66,
          57,
          61,
          68,
          66,
          66,
          67,
          67,
          67,
          67,
          67,
          53,
          66,
          68,
          66,
          71,
          59,
          67,
          69,
          59,
          55,
          70,
          57,
          75,
          78,
          67,
          64,
          69,
          67,
          59
         ],
         "yaxis": "y"
        },
        {
         "name": "PSA",
         "type": "box",
         "xaxis": "x2",
         "y": [
          4,
          7.699999809265137,
          29,
          7,
          29,
          4,
          7,
          6.199999809265137,
          6,
          7.699999809265137,
          6.199999809265137,
          5.699999809265137,
          6,
          4.300000190734863,
          7,
          5.190000057220459,
          4.5,
          4.5,
          7,
          5.699999809265137,
          4.300000190734863,
          14,
          14,
          10,
          9,
          25,
          91.80000305175781,
          21,
          98,
          7.5,
          10.800000190734863,
          7.5,
          10.5,
          90,
          5.099999904632568,
          16,
          17,
          23,
          6.400000095367432,
          100,
          5.800000190734863,
          16,
          17,
          25,
          6.400000095367432,
          38.900001525878906,
          20,
          40,
          20,
          9.5,
          6,
          9.600000381469727,
          6,
          10.199999809265137,
          8.5,
          53,
          6,
          19,
          5.599999904632568,
          6,
          3.5,
          15,
          5.199999809265137,
          17.700000762939453,
          6,
          4,
          5.199999809265137,
          15,
          21,
          25,
          4.599999904632568,
          8,
          5.599999904632568,
          8.699999809265137,
          6.400000095367432,
          98,
          4.800000190734863,
          7.599999904632568,
          10.600000381469727,
          4.699999809265137,
          29,
          18,
          27,
          8.5,
          5,
          5,
          8.390000343322754,
          4.789999961853027,
          6.800000190734863,
          4.900000095367432,
          7.800000190734863,
          7,
          16.200000762939453,
          7,
          4.5,
          8.300000190734863,
          6.5,
          7.199999809265137,
          5.800000190734863,
          6,
          10,
          21,
          14,
          5.96999979019165,
          6.980000019073486,
          12,
          7,
          24,
          98,
          8.899999618530273,
          10,
          100,
          4,
          17,
          5.199999809265137,
          8.300000190734863,
          6.300000190734863,
          9.300000190734863,
          23,
          12.600000381469727,
          5.5,
          13.800000190734863,
          8,
          21,
          13.399999618530273,
          11,
          21.299999237060547,
          7.099999904632568,
          11.899999618530273,
          6,
          4.900000095367432,
          12.600000381469727,
          7,
          3.799999952316284,
          15.600000381469727,
          5.400000095367432,
          22,
          18,
          12.800000190734863,
          8,
          10.800000190734863,
          4.099999904632568,
          17,
          2,
          9.399999618530273,
          4.489999771118164,
          10,
          11.5,
          5.309999942779541,
          9.600000381469727,
          33.599998474121094,
          16,
          5.099999904632568,
          48.29999923706055,
          4.699999809265137,
          6,
          5.110000133514404,
          8.800000190734863,
          8.899999618530273,
          4.800000190734863,
          10,
          8,
          15,
          26,
          0.6000000238418579,
          5.099999904632568,
          31,
          4.300000190734863,
          8,
          27.600000381469727,
          83,
          15.850000381469727,
          7,
          20.200000762939453,
          12.800000190734863,
          14.899999618530273,
          2.5,
          12,
          12,
          5.199999809265137,
          6,
          10.5,
          3.9000000953674316,
          18,
          29,
          9,
          5,
          3.799999952316284,
          18.200000762939453,
          28,
          24,
          18,
          9,
          8,
          5.699999809265137,
          6.300000190734863,
          33.79999923706055,
          28.600000381469727,
          21.100000381469727,
          16,
          28,
          7,
          4.300000190734863,
          22,
          30,
          5,
          12.600000381469727,
          13.5,
          21,
          14,
          7,
          3,
          21.899999618530273,
          43.900001525878906,
          7,
          8.100000381469727,
          7,
          23.600000381469727,
          3.5999999046325684,
          3,
          5.800000190734863,
          20,
          9.899999618530273,
          5.5,
          7.900000095367432,
          18,
          10,
          6,
          6.099999904632568,
          5,
          7.199999809265137,
          6,
          5,
          12,
          6,
          4.400000095367432,
          6.5,
          5.5,
          4.5,
          7,
          3,
          3.700000047683716,
          14.5,
          8.300000190734863,
          6.599999904632568,
          12.300000190734863,
          5.699999809265137,
          8.100000381469727,
          8.800000190734863,
          23,
          6.099999904632568,
          4,
          8,
          2.4000000953674316,
          7.099999904632568,
          5,
          5.699999809265137,
          5.019999980926514,
          7,
          6,
          4,
          7.400000095367432,
          6.5,
          9.699999809265137,
          33,
          10.899999618530273,
          7.900000095367432,
          4,
          76,
          10,
          8,
          5.5,
          6,
          10,
          8.300000190734863,
          4.400000095367432,
          2,
          4,
          26.600000381469727,
          13,
          4.800000190734863,
          5,
          7,
          5,
          22.200000762939453,
          22.600000381469727,
          6,
          11.699999809265137,
          8.800000190734863,
          18,
          10.300000190734863,
          6.639999866485596,
          8.699999809265137,
          10.600000381469727,
          16,
          6,
          18,
          4.800000190734863,
          70,
          9.300000190734863,
          5.300000190734863,
          4.599999904632568,
          9,
          8.5,
          54,
          6,
          19,
          5.599999904632568,
          5,
          3.5999999046325684,
          15,
          5.199999809265137,
          16.200000762939453,
          6,
          4.699999809265137,
          5.199999809265137,
          14,
          25,
          21,
          4.599999904632568,
          8,
          5.599999904632568,
          8.699999809265137,
          6.800000190734863,
          4,
          100,
          4,
          7.599999904632568,
          10.600000381469727,
          4.699999809265137,
          29,
          18,
          27,
          8.5,
          5,
          5.199999809265137,
          8.390000343322754,
          4.789999961853027,
          6.800000190734863,
          4.900000095367432,
          7.800000190734863,
          7,
          16.200000762939453,
          8,
          4.400000095367432,
          4.5,
          8.300000190734863,
          6.5,
          8.300000190734863,
          5.96999979019165,
          6,
          10,
          9,
          21,
          17,
          6.980000019073486,
          5.96999979019165,
          12,
          7,
          25,
          100,
          8.899999618530273,
          10,
          98,
          4,
          14,
          5.199999809265137,
          8.300000190734863,
          6.300000190734863,
          9.300000190734863,
          23,
          24,
          12.600000381469727,
          5.5,
          13.800000190734863,
          8,
          21,
          13.399999618530273,
          11,
          21.299999237060547,
          8.800000190734863,
          11.899999618530273,
          6.199999809265137,
          4.900000095367432,
          12.600000381469727,
          7,
          3.799999952316284,
          15.600000381469727,
          5.400000095367432,
          23,
          19,
          12.600000381469727,
          7,
          10.800000190734863,
          4.099999904632568,
          17,
          2,
          9.399999618530273,
          4.489999771118164,
          10,
          11.5,
          5.309999942779541,
          9.600000381469727,
          33.79999923706055,
          17,
          5.099999904632568,
          45,
          4.599999904632568,
          6,
          5.110000133514404,
          6.800000190734863,
          8.800000190734863,
          7,
          8.899999618530273,
          4.800000190734863,
          9,
          8,
          15,
          26,
          0.6000000238418579,
          9,
          5.099999904632568,
          35,
          4.300000190734863,
          8,
          28,
          98,
          15.800000190734863,
          8,
          20.200000762939453,
          12.800000190734863,
          14.899999618530273,
          5.699999809265137,
          2.5,
          13,
          13,
          5.199999809265137,
          6,
          10.600000381469727,
          3.5,
          17,
          28,
          10,
          5,
          3.799999952316284,
          18.200000762939453,
          28,
          24,
          18,
          10,
          7,
          6.199999809265137,
          6.300000190734863,
          33,
          29,
          21.100000381469727,
          16,
          28,
          8,
          4.489999771118164,
          22,
          30,
          5,
          12.600000381469727,
          12.600000381469727,
          22,
          14,
          7,
          2.5,
          21.899999618530273,
          44,
          7,
          8.100000381469727,
          8,
          24,
          3.9000000953674316,
          3,
          5.699999809265137,
          20,
          9.899999618530273,
          5.599999904632568,
          7.199999809265137,
          18,
          10,
          6,
          6.199999809265137,
          5,
          7.199999809265137,
          5,
          5,
          13,
          5,
          4.400000095367432,
          6,
          5.5,
          4.5,
          7,
          3,
          3.799999952316284,
          14.5,
          8.300000190734863,
          6.800000190734863,
          12.300000190734863,
          5.699999809265137,
          7.099999904632568,
          7.800000190734863,
          23,
          6.099999904632568,
          4,
          8,
          3,
          7.099999904632568,
          6,
          5.699999809265137,
          6,
          7,
          5,
          4,
          7.400000095367432,
          6.800000190734863,
          9.699999809265137,
          35,
          10.800000190734863,
          8.800000190734863,
          4.599999904632568,
          78,
          9,
          8,
          5.5,
          6,
          10,
          8.300000190734863,
          4.400000095367432,
          0.6000000238418579,
          4,
          27,
          13,
          4.800000190734863,
          6,
          7,
          5,
          22.200000762939453,
          21,
          6,
          11.699999809265137,
          8.800000190734863,
          18,
          10.899999618530273,
          6.599999904632568,
          8.699999809265137,
          10.600000381469727,
          16,
          5,
          18,
          4.800000190734863,
          75,
          9.300000190734863,
          6,
          4.800000190734863,
          4.429999828338623,
          8,
          9
         ],
         "yaxis": "y2"
        },
        {
         "name": "NUMERO DE MUESTRAS TOMADAS",
         "type": "box",
         "xaxis": "x3",
         "y": [
          12,
          12,
          24,
          12,
          24,
          12,
          12,
          12,
          12,
          12,
          12,
          12,
          12,
          12,
          12,
          24,
          12,
          12,
          12,
          24,
          12,
          18,
          18,
          12,
          12,
          12,
          6,
          12,
          6,
          12,
          12,
          12,
          12,
          12,
          12,
          12,
          12,
          12,
          12,
          12,
          12,
          12,
          12,
          12,
          12,
          6,
          12,
          6,
          12,
          12,
          18,
          12,
          18,
          12,
          12,
          12,
          12,
          12,
          12,
          12,
          12,
          12,
          12,
          12,
          24,
          18,
          16,
          12,
          12,
          12,
          12,
          12,
          12,
          24,
          12,
          6,
          12,
          12,
          12,
          12,
          12,
          12,
          12,
          24,
          12,
          12,
          12,
          12,
          12,
          12,
          12,
          12,
          12,
          24,
          12,
          12,
          18,
          12,
          12,
          12,
          12,
          12,
          12,
          20,
          12,
          12,
          12,
          12,
          12,
          24,
          12,
          12,
          12,
          12,
          24,
          12,
          18,
          12,
          12,
          12,
          12,
          12,
          12,
          24,
          12,
          12,
          24,
          12,
          12,
          12,
          12,
          12,
          12,
          12,
          12,
          12,
          12,
          6,
          12,
          12,
          24,
          12,
          12,
          12,
          10,
          12,
          12,
          12,
          12,
          12,
          6,
          12,
          12,
          12,
          12,
          12,
          12,
          12,
          12,
          12,
          12,
          12,
          12,
          12,
          12,
          12,
          12,
          12,
          12,
          24,
          6,
          12,
          12,
          10,
          12,
          6,
          12,
          24,
          18,
          12,
          12,
          6,
          12,
          12,
          12,
          12,
          12,
          12,
          12,
          12,
          12,
          24,
          24,
          12,
          12,
          12,
          6,
          4,
          12,
          12,
          12,
          12,
          8,
          12,
          12,
          12,
          15,
          12,
          12,
          12,
          12,
          12,
          6,
          4,
          12,
          12,
          4,
          6,
          12,
          12,
          18,
          12,
          12,
          18,
          18,
          18,
          18,
          12,
          12,
          12,
          12,
          18,
          12,
          24,
          12,
          12,
          12,
          12,
          18,
          12,
          12,
          12,
          12,
          12,
          12,
          6,
          12,
          18,
          22,
          12,
          12,
          12,
          18,
          12,
          12,
          12,
          12,
          12,
          12,
          12,
          12,
          12,
          12,
          12,
          12,
          12,
          12,
          10,
          10,
          24,
          12,
          12,
          12,
          12,
          12,
          12,
          12,
          24,
          10,
          12,
          12,
          14,
          18,
          18,
          12,
          12,
          24,
          12,
          12,
          12,
          12,
          12,
          24,
          12,
          24,
          12,
          12,
          12,
          12,
          12,
          12,
          12,
          12,
          12,
          12,
          12,
          12,
          12,
          12,
          12,
          12,
          12,
          12,
          24,
          18,
          16,
          12,
          12,
          12,
          12,
          12,
          12,
          24,
          12,
          18,
          6,
          12,
          12,
          12,
          12,
          12,
          12,
          12,
          24,
          12,
          12,
          12,
          12,
          12,
          12,
          12,
          12,
          12,
          24,
          20,
          12,
          12,
          18,
          12,
          12,
          12,
          12,
          16,
          12,
          12,
          20,
          12,
          12,
          12,
          12,
          12,
          24,
          12,
          12,
          12,
          12,
          24,
          12,
          18,
          12,
          6,
          12,
          12,
          12,
          12,
          12,
          24,
          12,
          12,
          24,
          12,
          12,
          12,
          12,
          12,
          12,
          12,
          12,
          12,
          12,
          6,
          12,
          12,
          24,
          12,
          12,
          12,
          10,
          12,
          12,
          12,
          12,
          12,
          6,
          12,
          12,
          12,
          12,
          12,
          12,
          12,
          12,
          12,
          12,
          12,
          12,
          12,
          12,
          12,
          12,
          12,
          12,
          12,
          12,
          12,
          24,
          6,
          12,
          12,
          10,
          12,
          6,
          12,
          12,
          24,
          18,
          12,
          12,
          6,
          12,
          12,
          12,
          12,
          12,
          12,
          12,
          12,
          12,
          24,
          24,
          12,
          12,
          12,
          6,
          4,
          12,
          12,
          12,
          12,
          8,
          12,
          12,
          12,
          15,
          12,
          12,
          12,
          12,
          12,
          6,
          4,
          12,
          12,
          4,
          6,
          12,
          12,
          18,
          12,
          12,
          18,
          18,
          18,
          18,
          12,
          12,
          12,
          12,
          18,
          12,
          24,
          12,
          12,
          12,
          12,
          18,
          12,
          12,
          12,
          12,
          12,
          12,
          6,
          12,
          18,
          22,
          12,
          12,
          12,
          18,
          12,
          12,
          12,
          12,
          12,
          12,
          12,
          12,
          12,
          12,
          12,
          12,
          12,
          12,
          10,
          10,
          24,
          12,
          12,
          12,
          12,
          12,
          12,
          12,
          24,
          10,
          12,
          12,
          14,
          18,
          18,
          12,
          12,
          24,
          12,
          12,
          12,
          12,
          12,
          24,
          12,
          24,
          12,
          12,
          12,
          12,
          12,
          12,
          12,
          20,
          12,
          12
         ],
         "yaxis": "y3"
        }
       ],
       "layout": {
        "annotations": [
         {
          "font": {
           "size": 16
          },
          "showarrow": false,
          "text": "EDAD",
          "x": 0.5,
          "xanchor": "center",
          "xref": "paper",
          "y": 1,
          "yanchor": "bottom",
          "yref": "paper"
         },
         {
          "font": {
           "size": 16
          },
          "showarrow": false,
          "text": "PSA",
          "x": 0.5,
          "xanchor": "center",
          "xref": "paper",
          "y": 0.6111111111111112,
          "yanchor": "bottom",
          "yref": "paper"
         },
         {
          "font": {
           "size": 16
          },
          "showarrow": false,
          "text": "NUMERO DE MUESTRAS TOMADAS",
          "x": 0.5,
          "xanchor": "center",
          "xref": "paper",
          "y": 0.22222222222222224,
          "yanchor": "bottom",
          "yref": "paper"
         }
        ],
        "height": 1500,
        "template": {
         "data": {
          "bar": [
           {
            "error_x": {
             "color": "#2a3f5f"
            },
            "error_y": {
             "color": "#2a3f5f"
            },
            "marker": {
             "line": {
              "color": "#E5ECF6",
              "width": 0.5
             },
             "pattern": {
              "fillmode": "overlay",
              "size": 10,
              "solidity": 0.2
             }
            },
            "type": "bar"
           }
          ],
          "barpolar": [
           {
            "marker": {
             "line": {
              "color": "#E5ECF6",
              "width": 0.5
             },
             "pattern": {
              "fillmode": "overlay",
              "size": 10,
              "solidity": 0.2
             }
            },
            "type": "barpolar"
           }
          ],
          "carpet": [
           {
            "aaxis": {
             "endlinecolor": "#2a3f5f",
             "gridcolor": "white",
             "linecolor": "white",
             "minorgridcolor": "white",
             "startlinecolor": "#2a3f5f"
            },
            "baxis": {
             "endlinecolor": "#2a3f5f",
             "gridcolor": "white",
             "linecolor": "white",
             "minorgridcolor": "white",
             "startlinecolor": "#2a3f5f"
            },
            "type": "carpet"
           }
          ],
          "choropleth": [
           {
            "colorbar": {
             "outlinewidth": 0,
             "ticks": ""
            },
            "type": "choropleth"
           }
          ],
          "contour": [
           {
            "colorbar": {
             "outlinewidth": 0,
             "ticks": ""
            },
            "colorscale": [
             [
              0,
              "#0d0887"
             ],
             [
              0.1111111111111111,
              "#46039f"
             ],
             [
              0.2222222222222222,
              "#7201a8"
             ],
             [
              0.3333333333333333,
              "#9c179e"
             ],
             [
              0.4444444444444444,
              "#bd3786"
             ],
             [
              0.5555555555555556,
              "#d8576b"
             ],
             [
              0.6666666666666666,
              "#ed7953"
             ],
             [
              0.7777777777777778,
              "#fb9f3a"
             ],
             [
              0.8888888888888888,
              "#fdca26"
             ],
             [
              1,
              "#f0f921"
             ]
            ],
            "type": "contour"
           }
          ],
          "contourcarpet": [
           {
            "colorbar": {
             "outlinewidth": 0,
             "ticks": ""
            },
            "type": "contourcarpet"
           }
          ],
          "heatmap": [
           {
            "colorbar": {
             "outlinewidth": 0,
             "ticks": ""
            },
            "colorscale": [
             [
              0,
              "#0d0887"
             ],
             [
              0.1111111111111111,
              "#46039f"
             ],
             [
              0.2222222222222222,
              "#7201a8"
             ],
             [
              0.3333333333333333,
              "#9c179e"
             ],
             [
              0.4444444444444444,
              "#bd3786"
             ],
             [
              0.5555555555555556,
              "#d8576b"
             ],
             [
              0.6666666666666666,
              "#ed7953"
             ],
             [
              0.7777777777777778,
              "#fb9f3a"
             ],
             [
              0.8888888888888888,
              "#fdca26"
             ],
             [
              1,
              "#f0f921"
             ]
            ],
            "type": "heatmap"
           }
          ],
          "heatmapgl": [
           {
            "colorbar": {
             "outlinewidth": 0,
             "ticks": ""
            },
            "colorscale": [
             [
              0,
              "#0d0887"
             ],
             [
              0.1111111111111111,
              "#46039f"
             ],
             [
              0.2222222222222222,
              "#7201a8"
             ],
             [
              0.3333333333333333,
              "#9c179e"
             ],
             [
              0.4444444444444444,
              "#bd3786"
             ],
             [
              0.5555555555555556,
              "#d8576b"
             ],
             [
              0.6666666666666666,
              "#ed7953"
             ],
             [
              0.7777777777777778,
              "#fb9f3a"
             ],
             [
              0.8888888888888888,
              "#fdca26"
             ],
             [
              1,
              "#f0f921"
             ]
            ],
            "type": "heatmapgl"
           }
          ],
          "histogram": [
           {
            "marker": {
             "pattern": {
              "fillmode": "overlay",
              "size": 10,
              "solidity": 0.2
             }
            },
            "type": "histogram"
           }
          ],
          "histogram2d": [
           {
            "colorbar": {
             "outlinewidth": 0,
             "ticks": ""
            },
            "colorscale": [
             [
              0,
              "#0d0887"
             ],
             [
              0.1111111111111111,
              "#46039f"
             ],
             [
              0.2222222222222222,
              "#7201a8"
             ],
             [
              0.3333333333333333,
              "#9c179e"
             ],
             [
              0.4444444444444444,
              "#bd3786"
             ],
             [
              0.5555555555555556,
              "#d8576b"
             ],
             [
              0.6666666666666666,
              "#ed7953"
             ],
             [
              0.7777777777777778,
              "#fb9f3a"
             ],
             [
              0.8888888888888888,
              "#fdca26"
             ],
             [
              1,
              "#f0f921"
             ]
            ],
            "type": "histogram2d"
           }
          ],
          "histogram2dcontour": [
           {
            "colorbar": {
             "outlinewidth": 0,
             "ticks": ""
            },
            "colorscale": [
             [
              0,
              "#0d0887"
             ],
             [
              0.1111111111111111,
              "#46039f"
             ],
             [
              0.2222222222222222,
              "#7201a8"
             ],
             [
              0.3333333333333333,
              "#9c179e"
             ],
             [
              0.4444444444444444,
              "#bd3786"
             ],
             [
              0.5555555555555556,
              "#d8576b"
             ],
             [
              0.6666666666666666,
              "#ed7953"
             ],
             [
              0.7777777777777778,
              "#fb9f3a"
             ],
             [
              0.8888888888888888,
              "#fdca26"
             ],
             [
              1,
              "#f0f921"
             ]
            ],
            "type": "histogram2dcontour"
           }
          ],
          "mesh3d": [
           {
            "colorbar": {
             "outlinewidth": 0,
             "ticks": ""
            },
            "type": "mesh3d"
           }
          ],
          "parcoords": [
           {
            "line": {
             "colorbar": {
              "outlinewidth": 0,
              "ticks": ""
             }
            },
            "type": "parcoords"
           }
          ],
          "pie": [
           {
            "automargin": true,
            "type": "pie"
           }
          ],
          "scatter": [
           {
            "fillpattern": {
             "fillmode": "overlay",
             "size": 10,
             "solidity": 0.2
            },
            "type": "scatter"
           }
          ],
          "scatter3d": [
           {
            "line": {
             "colorbar": {
              "outlinewidth": 0,
              "ticks": ""
             }
            },
            "marker": {
             "colorbar": {
              "outlinewidth": 0,
              "ticks": ""
             }
            },
            "type": "scatter3d"
           }
          ],
          "scattercarpet": [
           {
            "marker": {
             "colorbar": {
              "outlinewidth": 0,
              "ticks": ""
             }
            },
            "type": "scattercarpet"
           }
          ],
          "scattergeo": [
           {
            "marker": {
             "colorbar": {
              "outlinewidth": 0,
              "ticks": ""
             }
            },
            "type": "scattergeo"
           }
          ],
          "scattergl": [
           {
            "marker": {
             "colorbar": {
              "outlinewidth": 0,
              "ticks": ""
             }
            },
            "type": "scattergl"
           }
          ],
          "scattermapbox": [
           {
            "marker": {
             "colorbar": {
              "outlinewidth": 0,
              "ticks": ""
             }
            },
            "type": "scattermapbox"
           }
          ],
          "scatterpolar": [
           {
            "marker": {
             "colorbar": {
              "outlinewidth": 0,
              "ticks": ""
             }
            },
            "type": "scatterpolar"
           }
          ],
          "scatterpolargl": [
           {
            "marker": {
             "colorbar": {
              "outlinewidth": 0,
              "ticks": ""
             }
            },
            "type": "scatterpolargl"
           }
          ],
          "scatterternary": [
           {
            "marker": {
             "colorbar": {
              "outlinewidth": 0,
              "ticks": ""
             }
            },
            "type": "scatterternary"
           }
          ],
          "surface": [
           {
            "colorbar": {
             "outlinewidth": 0,
             "ticks": ""
            },
            "colorscale": [
             [
              0,
              "#0d0887"
             ],
             [
              0.1111111111111111,
              "#46039f"
             ],
             [
              0.2222222222222222,
              "#7201a8"
             ],
             [
              0.3333333333333333,
              "#9c179e"
             ],
             [
              0.4444444444444444,
              "#bd3786"
             ],
             [
              0.5555555555555556,
              "#d8576b"
             ],
             [
              0.6666666666666666,
              "#ed7953"
             ],
             [
              0.7777777777777778,
              "#fb9f3a"
             ],
             [
              0.8888888888888888,
              "#fdca26"
             ],
             [
              1,
              "#f0f921"
             ]
            ],
            "type": "surface"
           }
          ],
          "table": [
           {
            "cells": {
             "fill": {
              "color": "#EBF0F8"
             },
             "line": {
              "color": "white"
             }
            },
            "header": {
             "fill": {
              "color": "#C8D4E3"
             },
             "line": {
              "color": "white"
             }
            },
            "type": "table"
           }
          ]
         },
         "layout": {
          "annotationdefaults": {
           "arrowcolor": "#2a3f5f",
           "arrowhead": 0,
           "arrowwidth": 1
          },
          "autotypenumbers": "strict",
          "coloraxis": {
           "colorbar": {
            "outlinewidth": 0,
            "ticks": ""
           }
          },
          "colorscale": {
           "diverging": [
            [
             0,
             "#8e0152"
            ],
            [
             0.1,
             "#c51b7d"
            ],
            [
             0.2,
             "#de77ae"
            ],
            [
             0.3,
             "#f1b6da"
            ],
            [
             0.4,
             "#fde0ef"
            ],
            [
             0.5,
             "#f7f7f7"
            ],
            [
             0.6,
             "#e6f5d0"
            ],
            [
             0.7,
             "#b8e186"
            ],
            [
             0.8,
             "#7fbc41"
            ],
            [
             0.9,
             "#4d9221"
            ],
            [
             1,
             "#276419"
            ]
           ],
           "sequential": [
            [
             0,
             "#0d0887"
            ],
            [
             0.1111111111111111,
             "#46039f"
            ],
            [
             0.2222222222222222,
             "#7201a8"
            ],
            [
             0.3333333333333333,
             "#9c179e"
            ],
            [
             0.4444444444444444,
             "#bd3786"
            ],
            [
             0.5555555555555556,
             "#d8576b"
            ],
            [
             0.6666666666666666,
             "#ed7953"
            ],
            [
             0.7777777777777778,
             "#fb9f3a"
            ],
            [
             0.8888888888888888,
             "#fdca26"
            ],
            [
             1,
             "#f0f921"
            ]
           ],
           "sequentialminus": [
            [
             0,
             "#0d0887"
            ],
            [
             0.1111111111111111,
             "#46039f"
            ],
            [
             0.2222222222222222,
             "#7201a8"
            ],
            [
             0.3333333333333333,
             "#9c179e"
            ],
            [
             0.4444444444444444,
             "#bd3786"
            ],
            [
             0.5555555555555556,
             "#d8576b"
            ],
            [
             0.6666666666666666,
             "#ed7953"
            ],
            [
             0.7777777777777778,
             "#fb9f3a"
            ],
            [
             0.8888888888888888,
             "#fdca26"
            ],
            [
             1,
             "#f0f921"
            ]
           ]
          },
          "colorway": [
           "#636efa",
           "#EF553B",
           "#00cc96",
           "#ab63fa",
           "#FFA15A",
           "#19d3f3",
           "#FF6692",
           "#B6E880",
           "#FF97FF",
           "#FECB52"
          ],
          "font": {
           "color": "#2a3f5f"
          },
          "geo": {
           "bgcolor": "white",
           "lakecolor": "white",
           "landcolor": "#E5ECF6",
           "showlakes": true,
           "showland": true,
           "subunitcolor": "white"
          },
          "hoverlabel": {
           "align": "left"
          },
          "hovermode": "closest",
          "mapbox": {
           "style": "light"
          },
          "paper_bgcolor": "white",
          "plot_bgcolor": "#E5ECF6",
          "polar": {
           "angularaxis": {
            "gridcolor": "white",
            "linecolor": "white",
            "ticks": ""
           },
           "bgcolor": "#E5ECF6",
           "radialaxis": {
            "gridcolor": "white",
            "linecolor": "white",
            "ticks": ""
           }
          },
          "scene": {
           "xaxis": {
            "backgroundcolor": "#E5ECF6",
            "gridcolor": "white",
            "gridwidth": 2,
            "linecolor": "white",
            "showbackground": true,
            "ticks": "",
            "zerolinecolor": "white"
           },
           "yaxis": {
            "backgroundcolor": "#E5ECF6",
            "gridcolor": "white",
            "gridwidth": 2,
            "linecolor": "white",
            "showbackground": true,
            "ticks": "",
            "zerolinecolor": "white"
           },
           "zaxis": {
            "backgroundcolor": "#E5ECF6",
            "gridcolor": "white",
            "gridwidth": 2,
            "linecolor": "white",
            "showbackground": true,
            "ticks": "",
            "zerolinecolor": "white"
           }
          },
          "shapedefaults": {
           "line": {
            "color": "#2a3f5f"
           }
          },
          "ternary": {
           "aaxis": {
            "gridcolor": "white",
            "linecolor": "white",
            "ticks": ""
           },
           "baxis": {
            "gridcolor": "white",
            "linecolor": "white",
            "ticks": ""
           },
           "bgcolor": "#E5ECF6",
           "caxis": {
            "gridcolor": "white",
            "linecolor": "white",
            "ticks": ""
           }
          },
          "title": {
           "x": 0.05
          },
          "xaxis": {
           "automargin": true,
           "gridcolor": "white",
           "linecolor": "white",
           "ticks": "",
           "title": {
            "standoff": 15
           },
           "zerolinecolor": "white",
           "zerolinewidth": 2
          },
          "yaxis": {
           "automargin": true,
           "gridcolor": "white",
           "linecolor": "white",
           "ticks": "",
           "title": {
            "standoff": 15
           },
           "zerolinecolor": "white",
           "zerolinewidth": 2
          }
         }
        },
        "title": {
         "text": "Numerical Data Distributions"
        },
        "width": 1200,
        "xaxis": {
         "anchor": "y",
         "domain": [
          0,
          1
         ]
        },
        "xaxis2": {
         "anchor": "y2",
         "domain": [
          0,
          1
         ]
        },
        "xaxis3": {
         "anchor": "y3",
         "domain": [
          0,
          1
         ]
        },
        "yaxis": {
         "anchor": "x",
         "domain": [
          0.7777777777777778,
          1
         ]
        },
        "yaxis2": {
         "anchor": "x2",
         "domain": [
          0.3888888888888889,
          0.6111111111111112
         ]
        },
        "yaxis3": {
         "anchor": "x3",
         "domain": [
          0,
          0.22222222222222224
         ]
        }
       }
      }
     },
     "metadata": {},
     "output_type": "display_data"
    }
   ],
   "source": [
    "fig = make_subplots(rows=3, cols=1, subplot_titles=numerical_columns)\n",
    "for i, column in enumerate(numerical_columns):\n",
    "    row = i + 1\n",
    "    col = 1\n",
    "    fig.add_trace(go.Box(y=df_numerical_columns[:,i], name=column), row=row, col=col)\n",
    "\n",
    "fig.update_layout(height=1500, width=1200, title_text=\"Numerical Data Distributions\")"
   ]
  },
  {
   "cell_type": "code",
   "execution_count": 40,
   "metadata": {},
   "outputs": [],
   "source": [
    "df_correlacion = df.drop('ANTIBIOTICO UTILIAZADO EN LA PROFILAXIS').drop('BIOPSIA')\n",
    "correlacion = df_correlacion.corr()"
   ]
  },
  {
   "cell_type": "code",
   "execution_count": 41,
   "metadata": {},
   "outputs": [],
   "source": [
    "import seaborn as sns\n",
    "import matplotlib.pyplot as plt\n",
    "sns.set_style()\n",
    "plt.style.use(\"seaborn-v0_8-dark\")"
   ]
  },
  {
   "cell_type": "code",
   "execution_count": 42,
   "metadata": {},
   "outputs": [
    {
     "data": {
      "text/html": [
       "<div><style>\n",
       ".dataframe > thead > tr,\n",
       ".dataframe > tbody > tr {\n",
       "  text-align: right;\n",
       "  white-space: pre-wrap;\n",
       "}\n",
       "</style>\n",
       "<small>shape: (9, 9)</small><table border=\"1\" class=\"dataframe\"><thead><tr><th>EDAD</th><th>DIABETES</th><th>HOSPITALIZACIÓN ULTIMO MES</th><th>PSA</th><th>BIOPSIAS PREVIAS</th><th>VOLUMEN PROSTATICO</th><th>NUMERO DE MUESTRAS TOMADAS</th><th>FIEBRE</th><th>HOSPITALIZACION</th></tr><tr><td>f64</td><td>f64</td><td>f64</td><td>f64</td><td>f64</td><td>f64</td><td>f64</td><td>f64</td><td>f64</td></tr></thead><tbody><tr><td>1.0</td><td>0.136322</td><td>-0.027136</td><td>0.184563</td><td>-0.08855</td><td>0.253808</td><td>-0.208255</td><td>0.004462</td><td>-0.04189</td></tr><tr><td>0.136322</td><td>1.0</td><td>0.027121</td><td>-0.022917</td><td>-0.061864</td><td>0.091446</td><td>-0.049273</td><td>-0.022536</td><td>0.057638</td></tr><tr><td>-0.027136</td><td>0.027121</td><td>1.0</td><td>-0.037931</td><td>-0.031831</td><td>-0.025901</td><td>0.033845</td><td>0.052603</td><td>0.069343</td></tr><tr><td>0.184563</td><td>-0.022917</td><td>-0.037931</td><td>1.0</td><td>-0.044125</td><td>0.128842</td><td>-0.20511</td><td>-0.036981</td><td>-0.068145</td></tr><tr><td>-0.08855</td><td>-0.061864</td><td>-0.031831</td><td>-0.044125</td><td>1.0</td><td>-0.054991</td><td>0.392527</td><td>0.032467</td><td>-0.017874</td></tr><tr><td>0.253808</td><td>0.091446</td><td>-0.025901</td><td>0.128842</td><td>-0.054991</td><td>1.0</td><td>-0.107471</td><td>0.048569</td><td>-0.01481</td></tr><tr><td>-0.208255</td><td>-0.049273</td><td>0.033845</td><td>-0.20511</td><td>0.392527</td><td>-0.107471</td><td>1.0</td><td>0.066753</td><td>0.073489</td></tr><tr><td>0.004462</td><td>-0.022536</td><td>0.052603</td><td>-0.036981</td><td>0.032467</td><td>0.048569</td><td>0.066753</td><td>1.0</td><td>0.634297</td></tr><tr><td>-0.04189</td><td>0.057638</td><td>0.069343</td><td>-0.068145</td><td>-0.017874</td><td>-0.01481</td><td>0.073489</td><td>0.634297</td><td>1.0</td></tr></tbody></table></div>"
      ],
      "text/plain": [
       "shape: (9, 9)\n",
       "┌───────────┬───────────┬───────────┬───────────┬───┬───────────┬───────────┬───────────┬──────────┐\n",
       "│ EDAD      ┆ DIABETES  ┆ HOSPITALI ┆ PSA       ┆ … ┆ VOLUMEN   ┆ NUMERO DE ┆ FIEBRE    ┆ HOSPITAL │\n",
       "│ ---       ┆ ---       ┆ ZACIÓN    ┆ ---       ┆   ┆ PROSTATIC ┆ MUESTRAS  ┆ ---       ┆ IZACION  │\n",
       "│ f64       ┆ f64       ┆ ULTIMO    ┆ f64       ┆   ┆ O         ┆ TOMADAS   ┆ f64       ┆ ---      │\n",
       "│           ┆           ┆ MES       ┆           ┆   ┆ ---       ┆ ---       ┆           ┆ f64      │\n",
       "│           ┆           ┆ ---       ┆           ┆   ┆ f64       ┆ f64       ┆           ┆          │\n",
       "│           ┆           ┆ f64       ┆           ┆   ┆           ┆           ┆           ┆          │\n",
       "╞═══════════╪═══════════╪═══════════╪═══════════╪═══╪═══════════╪═══════════╪═══════════╪══════════╡\n",
       "│ 1.0       ┆ 0.136322  ┆ -0.027136 ┆ 0.184563  ┆ … ┆ 0.253808  ┆ -0.208255 ┆ 0.004462  ┆ -0.04189 │\n",
       "│ 0.136322  ┆ 1.0       ┆ 0.027121  ┆ -0.022917 ┆ … ┆ 0.091446  ┆ -0.049273 ┆ -0.022536 ┆ 0.057638 │\n",
       "│ -0.027136 ┆ 0.027121  ┆ 1.0       ┆ -0.037931 ┆ … ┆ -0.025901 ┆ 0.033845  ┆ 0.052603  ┆ 0.069343 │\n",
       "│ 0.184563  ┆ -0.022917 ┆ -0.037931 ┆ 1.0       ┆ … ┆ 0.128842  ┆ -0.20511  ┆ -0.036981 ┆ -0.06814 │\n",
       "│           ┆           ┆           ┆           ┆   ┆           ┆           ┆           ┆ 5        │\n",
       "│ -0.08855  ┆ -0.061864 ┆ -0.031831 ┆ -0.044125 ┆ … ┆ -0.054991 ┆ 0.392527  ┆ 0.032467  ┆ -0.01787 │\n",
       "│           ┆           ┆           ┆           ┆   ┆           ┆           ┆           ┆ 4        │\n",
       "│ 0.253808  ┆ 0.091446  ┆ -0.025901 ┆ 0.128842  ┆ … ┆ 1.0       ┆ -0.107471 ┆ 0.048569  ┆ -0.01481 │\n",
       "│ -0.208255 ┆ -0.049273 ┆ 0.033845  ┆ -0.20511  ┆ … ┆ -0.107471 ┆ 1.0       ┆ 0.066753  ┆ 0.073489 │\n",
       "│ 0.004462  ┆ -0.022536 ┆ 0.052603  ┆ -0.036981 ┆ … ┆ 0.048569  ┆ 0.066753  ┆ 1.0       ┆ 0.634297 │\n",
       "│ -0.04189  ┆ 0.057638  ┆ 0.069343  ┆ -0.068145 ┆ … ┆ -0.01481  ┆ 0.073489  ┆ 0.634297  ┆ 1.0      │\n",
       "└───────────┴───────────┴───────────┴───────────┴───┴───────────┴───────────┴───────────┴──────────┘"
      ]
     },
     "execution_count": 42,
     "metadata": {},
     "output_type": "execute_result"
    }
   ],
   "source": [
    "correlacion"
   ]
  },
  {
   "cell_type": "code",
   "execution_count": 43,
   "metadata": {},
   "outputs": [
    {
     "data": {
      "image/png": "[encoded data removed]",
      "text/plain": [
       "<Figure size 900x600 with 2 Axes>"
      ]
     },
     "metadata": {},
     "output_type": "display_data"
    }
   ],
   "source": [
    "fig = plt.figure(figsize= (9,6))\n",
    "sns.heatmap(correlacion, annot=True, cmap=\"YlGnBu\", annot_kws={\"size\": 15  }, cbar=True, square=True, fmt='.2f')\n",
    "plt.xticks(rotation=45, horizontalalignment='right')\n",
    "plt.yticks(rotation=0)\n",
    "plt.show()"
   ]
  },
  {
   "cell_type": "code",
   "execution_count": null,
   "metadata": {},
   "outputs": [],
   "source": [
    "df.columns"
   ]
  },
  {
   "cell_type": "markdown",
   "metadata": {},
   "source": [
    "Guardando la Data que será utilizada para Modelar"
   ]
  },
  {
   "cell_type": "code",
   "execution_count": 44,
   "metadata": {},
   "outputs": [],
   "source": [
    "df.write_csv('03_data_procesada/01_data_pro_1.csv')"
   ]
  }
 ],
 "metadata": {
  "kernelspec": {
   "display_name": "venv",
   "language": "python",
   "name": "python3"
  },
  "language_info": {
   "codemirror_mode": {
    "name": "ipython",
    "version": 3
   },
   "file_extension": ".py",
   "mimetype": "text/x-python",
   "name": "python",
   "nbconvert_exporter": "python",
   "pygments_lexer": "ipython3",
   "version": "3.10.11"
  }
 },
 "nbformat": 4,
 "nbformat_minor": 2
}
